{
 "cells": [
  {
   "cell_type": "markdown",
   "metadata": {},
   "source": [
    "## Load Dependencies"
   ]
  },
  {
   "cell_type": "code",
   "execution_count": 1,
   "metadata": {},
   "outputs": [],
   "source": [
    "import urllib.request\n",
    "import xml.etree.ElementTree as ET\n",
    "import pandas as pd\n",
    "import numpy as np\n",
    "import yfinance as yf\n",
    "import matplotlib.pyplot as plt\n",
    "import seaborn as sns\n",
    "from sklearn.metrics import mean_squared_error\n",
    "\n",
    "from library import AutoEDA\n",
    "from library import Explore\n",
    "\n",
    "from library import create_windowed_df\n",
    "from library import make_fourier\n",
    "from library import harmonic_regression\n",
    "from library import perform_pca\n",
    "from library import biplot\n",
    "from library import create_scree_plot\n",
    "from library import find_optimal_K"
   ]
  },
  {
   "cell_type": "code",
   "execution_count": 2,
   "metadata": {},
   "outputs": [
    {
     "data": {
      "text/html": [
       "<div>\n",
       "<style scoped>\n",
       "    .dataframe tbody tr th:only-of-type {\n",
       "        vertical-align: middle;\n",
       "    }\n",
       "\n",
       "    .dataframe tbody tr th {\n",
       "        vertical-align: top;\n",
       "    }\n",
       "\n",
       "    .dataframe thead th {\n",
       "        text-align: right;\n",
       "    }\n",
       "</style>\n",
       "<table border=\"1\" class=\"dataframe\">\n",
       "  <thead>\n",
       "    <tr style=\"text-align: right;\">\n",
       "      <th></th>\n",
       "      <th>USD</th>\n",
       "      <th>JPY</th>\n",
       "      <th>BGN</th>\n",
       "      <th>CZK</th>\n",
       "      <th>DKK</th>\n",
       "      <th>GBP</th>\n",
       "      <th>CHF</th>\n",
       "    </tr>\n",
       "  </thead>\n",
       "  <tbody>\n",
       "    <tr>\n",
       "      <th>2024-04-05</th>\n",
       "      <td>1.0841</td>\n",
       "      <td>164.10</td>\n",
       "      <td>1.9558</td>\n",
       "      <td>25.286</td>\n",
       "      <td>7.4590</td>\n",
       "      <td>0.85773</td>\n",
       "      <td>0.9793</td>\n",
       "    </tr>\n",
       "    <tr>\n",
       "      <th>2024-04-04</th>\n",
       "      <td>1.0852</td>\n",
       "      <td>164.69</td>\n",
       "      <td>1.9558</td>\n",
       "      <td>25.322</td>\n",
       "      <td>7.4589</td>\n",
       "      <td>0.85788</td>\n",
       "      <td>0.9846</td>\n",
       "    </tr>\n",
       "    <tr>\n",
       "      <th>2024-04-03</th>\n",
       "      <td>1.0783</td>\n",
       "      <td>163.66</td>\n",
       "      <td>1.9558</td>\n",
       "      <td>25.352</td>\n",
       "      <td>7.4589</td>\n",
       "      <td>0.85713</td>\n",
       "      <td>0.9792</td>\n",
       "    </tr>\n",
       "    <tr>\n",
       "      <th>2024-04-02</th>\n",
       "      <td>1.0749</td>\n",
       "      <td>163.01</td>\n",
       "      <td>1.9558</td>\n",
       "      <td>25.361</td>\n",
       "      <td>7.4582</td>\n",
       "      <td>0.85510</td>\n",
       "      <td>0.9765</td>\n",
       "    </tr>\n",
       "    <tr>\n",
       "      <th>2024-03-28</th>\n",
       "      <td>1.0811</td>\n",
       "      <td>163.45</td>\n",
       "      <td>1.9558</td>\n",
       "      <td>25.305</td>\n",
       "      <td>7.4580</td>\n",
       "      <td>0.85510</td>\n",
       "      <td>0.9766</td>\n",
       "    </tr>\n",
       "  </tbody>\n",
       "</table>\n",
       "</div>"
      ],
      "text/plain": [
       "               USD     JPY     BGN     CZK     DKK      GBP     CHF\n",
       "2024-04-05  1.0841  164.10  1.9558  25.286  7.4590  0.85773  0.9793\n",
       "2024-04-04  1.0852  164.69  1.9558  25.322  7.4589  0.85788  0.9846\n",
       "2024-04-03  1.0783  163.66  1.9558  25.352  7.4589  0.85713  0.9792\n",
       "2024-04-02  1.0749  163.01  1.9558  25.361  7.4582  0.85510  0.9765\n",
       "2024-03-28  1.0811  163.45  1.9558  25.305  7.4580  0.85510  0.9766"
      ]
     },
     "execution_count": 2,
     "metadata": {},
     "output_type": "execute_result"
    }
   ],
   "source": [
    "# Convert the XML of the last 90 days of exchange rates from the ECB website to a pandas DataFrame\n",
    "\n",
    "last_90 = \"https://www.ecb.europa.eu/stats/eurofxref/eurofxref-hist-90d.xml?9531d63dc137832dc128c3fcc9bc4f12\"\n",
    "\n",
    "with urllib.request.urlopen(last_90) as response:\n",
    "   xml_data = response.read()\n",
    "\n",
    "root = ET.fromstring(xml_data)\n",
    "\n",
    "df = pd.DataFrame(columns=['USD', 'JPY', 'BGN', 'CZK', 'DKK', 'GBP', 'CHF'],\n",
    "                  dtype=np.dtype('float64'))\n",
    "df.index = df.index.astype(np.dtype('datetime64[ns]'))\n",
    "\n",
    "cube = root.find('{http://www.ecb.int/vocabulary/2002-08-01/eurofxref}Cube')\n",
    "\n",
    "currencies_lst = ['USD', 'JPY', 'BGN', 'CZK', 'DKK', 'GBP', 'CHF']\n",
    "dates = []\n",
    "currencies_dict = {}\n",
    "\n",
    "for child in cube:\n",
    "    dates.append(child.attrib['time'])\n",
    "    for rate_tag in child:\n",
    "        currency = list(rate_tag.attrib.values())[0]\n",
    "        rate = list(rate_tag.attrib.values())[1]\n",
    "        if currency in currencies_lst:\n",
    "            if currency in currencies_dict:\n",
    "                currencies_dict[currency].append(rate)\n",
    "            else:\n",
    "                currencies_dict[currency] = [rate]\n",
    "\n",
    "df = pd.DataFrame.from_dict(currencies_dict, dtype=np.dtype('float64'))\n",
    "df['date'] = dates\n",
    "df = df.set_index('date').rename_axis(None)\n",
    "df.index = df.index.astype(np.dtype('datetime64[ns]'))\n",
    "\n",
    "USD = df[['USD']]\n",
    "\n",
    "df.head()"
   ]
  },
  {
   "cell_type": "code",
   "execution_count": 3,
   "metadata": {},
   "outputs": [],
   "source": [
    "obj = AutoEDA(USD, 'USD')\n",
    "dates_df = obj.append_datetime_cols()"
   ]
  },
  {
   "cell_type": "code",
   "execution_count": 4,
   "metadata": {},
   "outputs": [
    {
     "data": {
      "text/html": [
       "<div>\n",
       "<style scoped>\n",
       "    .dataframe tbody tr th:only-of-type {\n",
       "        vertical-align: middle;\n",
       "    }\n",
       "\n",
       "    .dataframe tbody tr th {\n",
       "        vertical-align: top;\n",
       "    }\n",
       "\n",
       "    .dataframe thead th {\n",
       "        text-align: right;\n",
       "    }\n",
       "</style>\n",
       "<table border=\"1\" class=\"dataframe\">\n",
       "  <thead>\n",
       "    <tr style=\"text-align: right;\">\n",
       "      <th></th>\n",
       "      <th>USD</th>\n",
       "      <th>year</th>\n",
       "      <th>month</th>\n",
       "      <th>day</th>\n",
       "      <th>week_of_year</th>\n",
       "      <th>week_of_month</th>\n",
       "      <th>day_of_week</th>\n",
       "    </tr>\n",
       "  </thead>\n",
       "  <tbody>\n",
       "    <tr>\n",
       "      <th>2024-04-05</th>\n",
       "      <td>1.0841</td>\n",
       "      <td>2024</td>\n",
       "      <td>4</td>\n",
       "      <td>5</td>\n",
       "      <td>14</td>\n",
       "      <td>1</td>\n",
       "      <td>5</td>\n",
       "    </tr>\n",
       "    <tr>\n",
       "      <th>2024-04-04</th>\n",
       "      <td>1.0852</td>\n",
       "      <td>2024</td>\n",
       "      <td>4</td>\n",
       "      <td>4</td>\n",
       "      <td>14</td>\n",
       "      <td>1</td>\n",
       "      <td>4</td>\n",
       "    </tr>\n",
       "    <tr>\n",
       "      <th>2024-04-03</th>\n",
       "      <td>1.0783</td>\n",
       "      <td>2024</td>\n",
       "      <td>4</td>\n",
       "      <td>3</td>\n",
       "      <td>14</td>\n",
       "      <td>1</td>\n",
       "      <td>3</td>\n",
       "    </tr>\n",
       "    <tr>\n",
       "      <th>2024-04-02</th>\n",
       "      <td>1.0749</td>\n",
       "      <td>2024</td>\n",
       "      <td>4</td>\n",
       "      <td>2</td>\n",
       "      <td>14</td>\n",
       "      <td>1</td>\n",
       "      <td>2</td>\n",
       "    </tr>\n",
       "    <tr>\n",
       "      <th>2024-03-28</th>\n",
       "      <td>1.0811</td>\n",
       "      <td>2024</td>\n",
       "      <td>3</td>\n",
       "      <td>28</td>\n",
       "      <td>13</td>\n",
       "      <td>4</td>\n",
       "      <td>4</td>\n",
       "    </tr>\n",
       "    <tr>\n",
       "      <th>...</th>\n",
       "      <td>...</td>\n",
       "      <td>...</td>\n",
       "      <td>...</td>\n",
       "      <td>...</td>\n",
       "      <td>...</td>\n",
       "      <td>...</td>\n",
       "      <td>...</td>\n",
       "    </tr>\n",
       "    <tr>\n",
       "      <th>2024-01-12</th>\n",
       "      <td>1.0942</td>\n",
       "      <td>2024</td>\n",
       "      <td>1</td>\n",
       "      <td>12</td>\n",
       "      <td>2</td>\n",
       "      <td>2</td>\n",
       "      <td>5</td>\n",
       "    </tr>\n",
       "    <tr>\n",
       "      <th>2024-01-11</th>\n",
       "      <td>1.0987</td>\n",
       "      <td>2024</td>\n",
       "      <td>1</td>\n",
       "      <td>11</td>\n",
       "      <td>2</td>\n",
       "      <td>2</td>\n",
       "      <td>4</td>\n",
       "    </tr>\n",
       "    <tr>\n",
       "      <th>2024-01-10</th>\n",
       "      <td>1.0946</td>\n",
       "      <td>2024</td>\n",
       "      <td>1</td>\n",
       "      <td>10</td>\n",
       "      <td>2</td>\n",
       "      <td>2</td>\n",
       "      <td>3</td>\n",
       "    </tr>\n",
       "    <tr>\n",
       "      <th>2024-01-09</th>\n",
       "      <td>1.0940</td>\n",
       "      <td>2024</td>\n",
       "      <td>1</td>\n",
       "      <td>9</td>\n",
       "      <td>2</td>\n",
       "      <td>2</td>\n",
       "      <td>2</td>\n",
       "    </tr>\n",
       "    <tr>\n",
       "      <th>2024-01-08</th>\n",
       "      <td>1.0946</td>\n",
       "      <td>2024</td>\n",
       "      <td>1</td>\n",
       "      <td>8</td>\n",
       "      <td>2</td>\n",
       "      <td>2</td>\n",
       "      <td>1</td>\n",
       "    </tr>\n",
       "  </tbody>\n",
       "</table>\n",
       "<p>63 rows × 7 columns</p>\n",
       "</div>"
      ],
      "text/plain": [
       "               USD  year  month  day  week_of_year  week_of_month  day_of_week\n",
       "2024-04-05  1.0841  2024      4    5            14              1            5\n",
       "2024-04-04  1.0852  2024      4    4            14              1            4\n",
       "2024-04-03  1.0783  2024      4    3            14              1            3\n",
       "2024-04-02  1.0749  2024      4    2            14              1            2\n",
       "2024-03-28  1.0811  2024      3   28            13              4            4\n",
       "...            ...   ...    ...  ...           ...            ...          ...\n",
       "2024-01-12  1.0942  2024      1   12             2              2            5\n",
       "2024-01-11  1.0987  2024      1   11             2              2            4\n",
       "2024-01-10  1.0946  2024      1   10             2              2            3\n",
       "2024-01-09  1.0940  2024      1    9             2              2            2\n",
       "2024-01-08  1.0946  2024      1    8             2              2            1\n",
       "\n",
       "[63 rows x 7 columns]"
      ]
     },
     "execution_count": 4,
     "metadata": {},
     "output_type": "execute_result"
    }
   ],
   "source": [
    "dates_df"
   ]
  },
  {
   "cell_type": "code",
   "execution_count": 5,
   "metadata": {},
   "outputs": [
    {
     "data": {
      "text/html": [
       "<div>\n",
       "<style scoped>\n",
       "    .dataframe tbody tr th:only-of-type {\n",
       "        vertical-align: middle;\n",
       "    }\n",
       "\n",
       "    .dataframe tbody tr th {\n",
       "        vertical-align: top;\n",
       "    }\n",
       "\n",
       "    .dataframe thead th {\n",
       "        text-align: right;\n",
       "    }\n",
       "</style>\n",
       "<table border=\"1\" class=\"dataframe\">\n",
       "  <thead>\n",
       "    <tr style=\"text-align: right;\">\n",
       "      <th></th>\n",
       "      <th>USD</th>\n",
       "      <th>year</th>\n",
       "      <th>month_sin1</th>\n",
       "      <th>month_cos1</th>\n",
       "      <th>month_sin2</th>\n",
       "      <th>month_cos2</th>\n",
       "      <th>day_sin1</th>\n",
       "      <th>day_cos1</th>\n",
       "      <th>day_sin2</th>\n",
       "      <th>day_cos2</th>\n",
       "      <th>...</th>\n",
       "      <th>week_of_year_sin2</th>\n",
       "      <th>week_of_year_cos2</th>\n",
       "      <th>week_of_month_sin1</th>\n",
       "      <th>week_of_month_cos1</th>\n",
       "      <th>week_of_month_sin2</th>\n",
       "      <th>week_of_month_cos2</th>\n",
       "      <th>day_of_week_sin1</th>\n",
       "      <th>day_of_week_cos1</th>\n",
       "      <th>day_of_week_sin2</th>\n",
       "      <th>day_of_week_cos2</th>\n",
       "    </tr>\n",
       "  </thead>\n",
       "  <tbody>\n",
       "    <tr>\n",
       "      <th>2024-04-05</th>\n",
       "      <td>1.0841</td>\n",
       "      <td>2024</td>\n",
       "      <td>-2.449294e-16</td>\n",
       "      <td>1.000000e+00</td>\n",
       "      <td>-4.898587e-16</td>\n",
       "      <td>1.0</td>\n",
       "      <td>0.848644</td>\n",
       "      <td>0.528964</td>\n",
       "      <td>0.897805</td>\n",
       "      <td>-0.440394</td>\n",
       "      <td>...</td>\n",
       "      <td>-0.0</td>\n",
       "      <td>1.0</td>\n",
       "      <td>0.951057</td>\n",
       "      <td>0.309017</td>\n",
       "      <td>0.587785</td>\n",
       "      <td>-0.809017</td>\n",
       "      <td>-2.449294e-16</td>\n",
       "      <td>1.000000</td>\n",
       "      <td>-4.898587e-16</td>\n",
       "      <td>1.000000</td>\n",
       "    </tr>\n",
       "    <tr>\n",
       "      <th>2024-04-04</th>\n",
       "      <td>1.0852</td>\n",
       "      <td>2024</td>\n",
       "      <td>-2.449294e-16</td>\n",
       "      <td>1.000000e+00</td>\n",
       "      <td>-4.898587e-16</td>\n",
       "      <td>1.0</td>\n",
       "      <td>0.724793</td>\n",
       "      <td>0.688967</td>\n",
       "      <td>0.998717</td>\n",
       "      <td>-0.050649</td>\n",
       "      <td>...</td>\n",
       "      <td>-0.0</td>\n",
       "      <td>1.0</td>\n",
       "      <td>0.951057</td>\n",
       "      <td>0.309017</td>\n",
       "      <td>0.587785</td>\n",
       "      <td>-0.809017</td>\n",
       "      <td>-9.510565e-01</td>\n",
       "      <td>0.309017</td>\n",
       "      <td>-5.877853e-01</td>\n",
       "      <td>-0.809017</td>\n",
       "    </tr>\n",
       "    <tr>\n",
       "      <th>2024-04-03</th>\n",
       "      <td>1.0783</td>\n",
       "      <td>2024</td>\n",
       "      <td>-2.449294e-16</td>\n",
       "      <td>1.000000e+00</td>\n",
       "      <td>-4.898587e-16</td>\n",
       "      <td>1.0</td>\n",
       "      <td>0.571268</td>\n",
       "      <td>0.820763</td>\n",
       "      <td>0.937752</td>\n",
       "      <td>0.347305</td>\n",
       "      <td>...</td>\n",
       "      <td>-0.0</td>\n",
       "      <td>1.0</td>\n",
       "      <td>0.951057</td>\n",
       "      <td>0.309017</td>\n",
       "      <td>0.587785</td>\n",
       "      <td>-0.809017</td>\n",
       "      <td>-5.877853e-01</td>\n",
       "      <td>-0.809017</td>\n",
       "      <td>9.510565e-01</td>\n",
       "      <td>0.309017</td>\n",
       "    </tr>\n",
       "    <tr>\n",
       "      <th>2024-04-02</th>\n",
       "      <td>1.0749</td>\n",
       "      <td>2024</td>\n",
       "      <td>-2.449294e-16</td>\n",
       "      <td>1.000000e+00</td>\n",
       "      <td>-4.898587e-16</td>\n",
       "      <td>1.0</td>\n",
       "      <td>0.394356</td>\n",
       "      <td>0.918958</td>\n",
       "      <td>0.724793</td>\n",
       "      <td>0.688967</td>\n",
       "      <td>...</td>\n",
       "      <td>-0.0</td>\n",
       "      <td>1.0</td>\n",
       "      <td>0.951057</td>\n",
       "      <td>0.309017</td>\n",
       "      <td>0.587785</td>\n",
       "      <td>-0.809017</td>\n",
       "      <td>5.877853e-01</td>\n",
       "      <td>-0.809017</td>\n",
       "      <td>-9.510565e-01</td>\n",
       "      <td>0.309017</td>\n",
       "    </tr>\n",
       "    <tr>\n",
       "      <th>2024-03-28</th>\n",
       "      <td>1.0811</td>\n",
       "      <td>2024</td>\n",
       "      <td>-1.000000e+00</td>\n",
       "      <td>-1.836970e-16</td>\n",
       "      <td>3.673940e-16</td>\n",
       "      <td>-1.0</td>\n",
       "      <td>-0.571268</td>\n",
       "      <td>0.820763</td>\n",
       "      <td>-0.937752</td>\n",
       "      <td>0.347305</td>\n",
       "      <td>...</td>\n",
       "      <td>-0.781831</td>\n",
       "      <td>0.62349</td>\n",
       "      <td>-0.951057</td>\n",
       "      <td>0.309017</td>\n",
       "      <td>-0.587785</td>\n",
       "      <td>-0.809017</td>\n",
       "      <td>-9.510565e-01</td>\n",
       "      <td>0.309017</td>\n",
       "      <td>-5.877853e-01</td>\n",
       "      <td>-0.809017</td>\n",
       "    </tr>\n",
       "  </tbody>\n",
       "</table>\n",
       "<p>5 rows × 22 columns</p>\n",
       "</div>"
      ],
      "text/plain": [
       "               USD  year    month_sin1    month_cos1    month_sin2  \\\n",
       "2024-04-05  1.0841  2024 -2.449294e-16  1.000000e+00 -4.898587e-16   \n",
       "2024-04-04  1.0852  2024 -2.449294e-16  1.000000e+00 -4.898587e-16   \n",
       "2024-04-03  1.0783  2024 -2.449294e-16  1.000000e+00 -4.898587e-16   \n",
       "2024-04-02  1.0749  2024 -2.449294e-16  1.000000e+00 -4.898587e-16   \n",
       "2024-03-28  1.0811  2024 -1.000000e+00 -1.836970e-16  3.673940e-16   \n",
       "\n",
       "            month_cos2  day_sin1  day_cos1  day_sin2  day_cos2  ...  \\\n",
       "2024-04-05         1.0  0.848644  0.528964  0.897805 -0.440394  ...   \n",
       "2024-04-04         1.0  0.724793  0.688967  0.998717 -0.050649  ...   \n",
       "2024-04-03         1.0  0.571268  0.820763  0.937752  0.347305  ...   \n",
       "2024-04-02         1.0  0.394356  0.918958  0.724793  0.688967  ...   \n",
       "2024-03-28        -1.0 -0.571268  0.820763 -0.937752  0.347305  ...   \n",
       "\n",
       "            week_of_year_sin2  week_of_year_cos2  week_of_month_sin1  \\\n",
       "2024-04-05               -0.0                1.0            0.951057   \n",
       "2024-04-04               -0.0                1.0            0.951057   \n",
       "2024-04-03               -0.0                1.0            0.951057   \n",
       "2024-04-02               -0.0                1.0            0.951057   \n",
       "2024-03-28          -0.781831            0.62349           -0.951057   \n",
       "\n",
       "            week_of_month_cos1  week_of_month_sin2  week_of_month_cos2  \\\n",
       "2024-04-05            0.309017            0.587785           -0.809017   \n",
       "2024-04-04            0.309017            0.587785           -0.809017   \n",
       "2024-04-03            0.309017            0.587785           -0.809017   \n",
       "2024-04-02            0.309017            0.587785           -0.809017   \n",
       "2024-03-28            0.309017           -0.587785           -0.809017   \n",
       "\n",
       "            day_of_week_sin1  day_of_week_cos1  day_of_week_sin2  \\\n",
       "2024-04-05     -2.449294e-16          1.000000     -4.898587e-16   \n",
       "2024-04-04     -9.510565e-01          0.309017     -5.877853e-01   \n",
       "2024-04-03     -5.877853e-01         -0.809017      9.510565e-01   \n",
       "2024-04-02      5.877853e-01         -0.809017     -9.510565e-01   \n",
       "2024-03-28     -9.510565e-01          0.309017     -5.877853e-01   \n",
       "\n",
       "            day_of_week_cos2  \n",
       "2024-04-05          1.000000  \n",
       "2024-04-04         -0.809017  \n",
       "2024-04-03          0.309017  \n",
       "2024-04-02          0.309017  \n",
       "2024-03-28         -0.809017  \n",
       "\n",
       "[5 rows x 22 columns]"
      ]
     },
     "metadata": {},
     "output_type": "display_data"
    }
   ],
   "source": [
    "fourier_df = make_fourier(dates_df, ['month', 'day', 'week_of_year', 'week_of_month', 'day_of_week'],2)\n",
    "display(fourier_df.head())"
   ]
  },
  {
   "cell_type": "code",
   "execution_count": 6,
   "metadata": {},
   "outputs": [
    {
     "data": {
      "image/png": "[encoded data removed]",
      "text/plain": [
       "<Figure size 1008x504 with 2 Axes>"
      ]
     },
     "metadata": {
      "needs_background": "light"
     },
     "output_type": "display_data"
    }
   ],
   "source": [
    "\n",
    "\n",
    "# Plot the Fourier terms\n",
    "plt.figure(figsize=(14, 7))\n",
    "\n",
    "# Plot the sine term\n",
    "plt.subplot(2, 1, 1)\n",
    "plt.plot(fourier_df.index, fourier_df['month_sin1'], label='Sine term')\n",
    "plt.title('Fourier Sine Term for Month')\n",
    "plt.legend()\n",
    "\n",
    "# Plot the cosine term\n",
    "plt.subplot(2, 1, 2)\n",
    "plt.plot(fourier_df.index, fourier_df['month_cos1'], label='Cosine term')\n",
    "plt.title('Fourier Cosine Term for Month')\n",
    "plt.legend()\n",
    "\n",
    "plt.tight_layout()\n",
    "plt.show()"
   ]
  },
  {
   "cell_type": "code",
   "execution_count": 7,
   "metadata": {},
   "outputs": [
    {
     "data": {
      "image/png": "[encoded data removed]",
      "text/plain": [
       "<Figure size 1008x504 with 1 Axes>"
      ]
     },
     "metadata": {
      "needs_background": "light"
     },
     "output_type": "display_data"
    }
   ],
   "source": [
    "plt.figure(figsize=(14, 7))\n",
    "\n",
    "# Assuming you have sine and cosine terms for multiple frequencies (e.g., month, day, etc.)\n",
    "for col in fourier_df.columns:\n",
    "    if 'sin' in col or 'cos' in col:\n",
    "        plt.plot(fourier_df.index, fourier_df[col], label=col)\n",
    "\n",
    "plt.title('Fourier Terms')\n",
    "plt.legend()\n",
    "plt.show()\n"
   ]
  },
  {
   "cell_type": "markdown",
   "metadata": {},
   "source": [
    "### Harmonic Regression"
   ]
  },
  {
   "cell_type": "code",
   "execution_count": 8,
   "metadata": {},
   "outputs": [
    {
     "name": "stdout",
     "output_type": "stream",
     "text": [
      "Predictor Variance:\n",
      "month_sin1    6.118792e-01\n",
      "month_cos1    3.292371e-01\n",
      "month_sin2    8.216042e-32\n",
      "month_cos2    9.728623e-01\n",
      "dtype: float64\n",
      "K: 1, AIC: -501.0246923721194\n",
      "Predictor Variance:\n",
      "month_sin1    6.118792e-01\n",
      "month_cos1    3.292371e-01\n",
      "month_sin2    8.216042e-32\n",
      "month_cos2    9.728623e-01\n",
      "dtype: float64\n",
      "K: 2, AIC: -501.0246923721194\n",
      "Predictor Variance:\n",
      "month_sin1    6.118792e-01\n",
      "month_cos1    3.292371e-01\n",
      "month_sin2    8.216042e-32\n",
      "month_cos2    9.728623e-01\n",
      "dtype: float64\n",
      "K: 3, AIC: -501.0246923721194\n",
      "Predictor Variance:\n",
      "month_sin1    6.118792e-01\n",
      "month_cos1    3.292371e-01\n",
      "month_sin2    8.216042e-32\n",
      "month_cos2    9.728623e-01\n",
      "dtype: float64\n",
      "K: 4, AIC: -501.0246923721194\n",
      "Predictor Variance:\n",
      "month_sin1    6.118792e-01\n",
      "month_cos1    3.292371e-01\n",
      "month_sin2    8.216042e-32\n",
      "month_cos2    9.728623e-01\n",
      "dtype: float64\n",
      "K: 5, AIC: -501.0246923721194\n",
      "Predictor Variance:\n",
      "month_sin1    6.118792e-01\n",
      "month_cos1    3.292371e-01\n",
      "month_sin2    8.216042e-32\n",
      "month_cos2    9.728623e-01\n",
      "dtype: float64\n",
      "K: 6, AIC: -501.0246923721194\n",
      "Predictor Variance:\n",
      "month_sin1    6.118792e-01\n",
      "month_cos1    3.292371e-01\n",
      "month_sin2    8.216042e-32\n",
      "month_cos2    9.728623e-01\n",
      "dtype: float64\n",
      "K: 7, AIC: -501.0246923721194\n",
      "Predictor Variance:\n",
      "month_sin1    6.118792e-01\n",
      "month_cos1    3.292371e-01\n",
      "month_sin2    8.216042e-32\n",
      "month_cos2    9.728623e-01\n",
      "dtype: float64\n",
      "K: 8, AIC: -501.0246923721194\n",
      "Predictor Variance:\n",
      "month_sin1    6.118792e-01\n",
      "month_cos1    3.292371e-01\n",
      "month_sin2    8.216042e-32\n",
      "month_cos2    9.728623e-01\n",
      "dtype: float64\n",
      "K: 9, AIC: -501.0246923721194\n",
      "Predictor Variance:\n",
      "month_sin1    6.118792e-01\n",
      "month_cos1    3.292371e-01\n",
      "month_sin2    8.216042e-32\n",
      "month_cos2    9.728623e-01\n",
      "dtype: float64\n",
      "K: 10, AIC: -501.0246923721194\n",
      "Best K by AIC: 1\n"
     ]
    }
   ],
   "source": [
    "optimal_K, optimal_model, df_with_preds = find_optimal_K(dates_df, 'USD', 10)"
   ]
  },
  {
   "cell_type": "code",
   "execution_count": 9,
   "metadata": {},
   "outputs": [
    {
     "data": {
      "text/plain": [
       "1"
      ]
     },
     "execution_count": 9,
     "metadata": {},
     "output_type": "execute_result"
    }
   ],
   "source": [
    "optimal_K\n"
   ]
  },
  {
   "cell_type": "code",
   "execution_count": 10,
   "metadata": {},
   "outputs": [
    {
     "data": {
      "text/html": [
       "<table class=\"simpletable\">\n",
       "<caption>OLS Regression Results</caption>\n",
       "<tr>\n",
       "  <th>Dep. Variable:</th>           <td>USD</td>       <th>  R-squared:         </th> <td>   0.519</td>\n",
       "</tr>\n",
       "<tr>\n",
       "  <th>Model:</th>                   <td>OLS</td>       <th>  Adj. R-squared:    </th> <td>   0.494</td>\n",
       "</tr>\n",
       "<tr>\n",
       "  <th>Method:</th>             <td>Least Squares</td>  <th>  F-statistic:       </th> <td>   21.20</td>\n",
       "</tr>\n",
       "<tr>\n",
       "  <th>Date:</th>             <td>Sat, 06 Apr 2024</td> <th>  Prob (F-statistic):</th> <td>1.93e-09</td>\n",
       "</tr>\n",
       "<tr>\n",
       "  <th>Time:</th>                 <td>03:21:23</td>     <th>  Log-Likelihood:    </th> <td>  254.51</td>\n",
       "</tr>\n",
       "<tr>\n",
       "  <th>No. Observations:</th>      <td>    63</td>      <th>  AIC:               </th> <td>  -501.0</td>\n",
       "</tr>\n",
       "<tr>\n",
       "  <th>Df Residuals:</th>          <td>    59</td>      <th>  BIC:               </th> <td>  -492.5</td>\n",
       "</tr>\n",
       "<tr>\n",
       "  <th>Df Model:</th>              <td>     3</td>      <th>                     </th>     <td> </td>   \n",
       "</tr>\n",
       "<tr>\n",
       "  <th>Covariance Type:</th>      <td>nonrobust</td>    <th>                     </th>     <td> </td>   \n",
       "</tr>\n",
       "</table>\n",
       "<table class=\"simpletable\">\n",
       "<tr>\n",
       "       <td></td>         <th>coef</th>     <th>std err</th>      <th>t</th>      <th>P>|t|</th>  <th>[0.025</th>    <th>0.975]</th>  \n",
       "</tr>\n",
       "<tr>\n",
       "  <th>const</th>      <td>    1.0843</td> <td>    0.001</td> <td> 1552.188</td> <td> 0.000</td> <td>    1.083</td> <td>    1.086</td>\n",
       "</tr>\n",
       "<tr>\n",
       "  <th>month_sin1</th> <td>    0.0013</td> <td>    0.001</td> <td>    1.805</td> <td> 0.076</td> <td>   -0.000</td> <td>    0.003</td>\n",
       "</tr>\n",
       "<tr>\n",
       "  <th>month_cos1</th> <td>    0.0006</td> <td>    0.001</td> <td>    0.481</td> <td> 0.633</td> <td>   -0.002</td> <td>    0.003</td>\n",
       "</tr>\n",
       "<tr>\n",
       "  <th>month_sin2</th> <td>-7.485e-18</td> <td> 1.65e-18</td> <td>   -4.539</td> <td> 0.000</td> <td>-1.08e-17</td> <td>-4.19e-18</td>\n",
       "</tr>\n",
       "<tr>\n",
       "  <th>month_cos2</th> <td>   -0.0042</td> <td>    0.001</td> <td>   -6.057</td> <td> 0.000</td> <td>   -0.006</td> <td>   -0.003</td>\n",
       "</tr>\n",
       "</table>\n",
       "<table class=\"simpletable\">\n",
       "<tr>\n",
       "  <th>Omnibus:</th>       <td> 6.959</td> <th>  Durbin-Watson:     </th> <td>   0.808</td>\n",
       "</tr>\n",
       "<tr>\n",
       "  <th>Prob(Omnibus):</th> <td> 0.031</td> <th>  Jarque-Bera (JB):  </th> <td>   2.711</td>\n",
       "</tr>\n",
       "<tr>\n",
       "  <th>Skew:</th>          <td> 0.140</td> <th>  Prob(JB):          </th> <td>   0.258</td>\n",
       "</tr>\n",
       "<tr>\n",
       "  <th>Kurtosis:</th>      <td> 2.023</td> <th>  Cond. No.          </th> <td>1.39e+31</td>\n",
       "</tr>\n",
       "</table><br/><br/>Notes:<br/>[1] Standard Errors assume that the covariance matrix of the errors is correctly specified.<br/>[2] The smallest eigenvalue is 3.92e-61. This might indicate that there are<br/>strong multicollinearity problems or that the design matrix is singular."
      ],
      "text/latex": [
       "\\begin{center}\n",
       "\\begin{tabular}{lclc}\n",
       "\\toprule\n",
       "\\textbf{Dep. Variable:}    &       USD        & \\textbf{  R-squared:         } &     0.519   \\\\\n",
       "\\textbf{Model:}            &       OLS        & \\textbf{  Adj. R-squared:    } &     0.494   \\\\\n",
       "\\textbf{Method:}           &  Least Squares   & \\textbf{  F-statistic:       } &     21.20   \\\\\n",
       "\\textbf{Date:}             & Sat, 06 Apr 2024 & \\textbf{  Prob (F-statistic):} &  1.93e-09   \\\\\n",
       "\\textbf{Time:}             &     03:21:23     & \\textbf{  Log-Likelihood:    } &    254.51   \\\\\n",
       "\\textbf{No. Observations:} &          63      & \\textbf{  AIC:               } &    -501.0   \\\\\n",
       "\\textbf{Df Residuals:}     &          59      & \\textbf{  BIC:               } &    -492.5   \\\\\n",
       "\\textbf{Df Model:}         &           3      & \\textbf{                     } &             \\\\\n",
       "\\textbf{Covariance Type:}  &    nonrobust     & \\textbf{                     } &             \\\\\n",
       "\\bottomrule\n",
       "\\end{tabular}\n",
       "\\begin{tabular}{lcccccc}\n",
       "                     & \\textbf{coef} & \\textbf{std err} & \\textbf{t} & \\textbf{P$> |$t$|$} & \\textbf{[0.025} & \\textbf{0.975]}  \\\\\n",
       "\\midrule\n",
       "\\textbf{const}       &       1.0843  &        0.001     &  1552.188  &         0.000        &        1.083    &        1.086     \\\\\n",
       "\\textbf{month\\_sin1} &       0.0013  &        0.001     &     1.805  &         0.076        &       -0.000    &        0.003     \\\\\n",
       "\\textbf{month\\_cos1} &       0.0006  &        0.001     &     0.481  &         0.633        &       -0.002    &        0.003     \\\\\n",
       "\\textbf{month\\_sin2} &   -7.485e-18  &     1.65e-18     &    -4.539  &         0.000        &    -1.08e-17    &    -4.19e-18     \\\\\n",
       "\\textbf{month\\_cos2} &      -0.0042  &        0.001     &    -6.057  &         0.000        &       -0.006    &       -0.003     \\\\\n",
       "\\bottomrule\n",
       "\\end{tabular}\n",
       "\\begin{tabular}{lclc}\n",
       "\\textbf{Omnibus:}       &  6.959 & \\textbf{  Durbin-Watson:     } &    0.808  \\\\\n",
       "\\textbf{Prob(Omnibus):} &  0.031 & \\textbf{  Jarque-Bera (JB):  } &    2.711  \\\\\n",
       "\\textbf{Skew:}          &  0.140 & \\textbf{  Prob(JB):          } &    0.258  \\\\\n",
       "\\textbf{Kurtosis:}      &  2.023 & \\textbf{  Cond. No.          } & 1.39e+31  \\\\\n",
       "\\bottomrule\n",
       "\\end{tabular}\n",
       "%\\caption{OLS Regression Results}\n",
       "\\end{center}\n",
       "\n",
       "Notes: \\newline\n",
       " [1] Standard Errors assume that the covariance matrix of the errors is correctly specified. \\newline\n",
       " [2] The smallest eigenvalue is 3.92e-61. This might indicate that there are \\newline\n",
       " strong multicollinearity problems or that the design matrix is singular."
      ],
      "text/plain": [
       "<class 'statsmodels.iolib.summary.Summary'>\n",
       "\"\"\"\n",
       "                            OLS Regression Results                            \n",
       "==============================================================================\n",
       "Dep. Variable:                    USD   R-squared:                       0.519\n",
       "Model:                            OLS   Adj. R-squared:                  0.494\n",
       "Method:                 Least Squares   F-statistic:                     21.20\n",
       "Date:                Sat, 06 Apr 2024   Prob (F-statistic):           1.93e-09\n",
       "Time:                        03:21:23   Log-Likelihood:                 254.51\n",
       "No. Observations:                  63   AIC:                            -501.0\n",
       "Df Residuals:                      59   BIC:                            -492.5\n",
       "Df Model:                           3                                         \n",
       "Covariance Type:            nonrobust                                         \n",
       "==============================================================================\n",
       "                 coef    std err          t      P>|t|      [0.025      0.975]\n",
       "------------------------------------------------------------------------------\n",
       "const          1.0843      0.001   1552.188      0.000       1.083       1.086\n",
       "month_sin1     0.0013      0.001      1.805      0.076      -0.000       0.003\n",
       "month_cos1     0.0006      0.001      0.481      0.633      -0.002       0.003\n",
       "month_sin2 -7.485e-18   1.65e-18     -4.539      0.000   -1.08e-17   -4.19e-18\n",
       "month_cos2    -0.0042      0.001     -6.057      0.000      -0.006      -0.003\n",
       "==============================================================================\n",
       "Omnibus:                        6.959   Durbin-Watson:                   0.808\n",
       "Prob(Omnibus):                  0.031   Jarque-Bera (JB):                2.711\n",
       "Skew:                           0.140   Prob(JB):                        0.258\n",
       "Kurtosis:                       2.023   Cond. No.                     1.39e+31\n",
       "==============================================================================\n",
       "\n",
       "Notes:\n",
       "[1] Standard Errors assume that the covariance matrix of the errors is correctly specified.\n",
       "[2] The smallest eigenvalue is 3.92e-61. This might indicate that there are\n",
       "strong multicollinearity problems or that the design matrix is singular.\n",
       "\"\"\""
      ]
     },
     "execution_count": 10,
     "metadata": {},
     "output_type": "execute_result"
    }
   ],
   "source": [
    "optimal_model.summary()"
   ]
  },
  {
   "cell_type": "code",
   "execution_count": 10,
   "metadata": {},
   "outputs": [
    {
     "data": {
      "text/html": [
       "<div>\n",
       "<style scoped>\n",
       "    .dataframe tbody tr th:only-of-type {\n",
       "        vertical-align: middle;\n",
       "    }\n",
       "\n",
       "    .dataframe tbody tr th {\n",
       "        vertical-align: top;\n",
       "    }\n",
       "\n",
       "    .dataframe thead th {\n",
       "        text-align: right;\n",
       "    }\n",
       "</style>\n",
       "<table border=\"1\" class=\"dataframe\">\n",
       "  <thead>\n",
       "    <tr style=\"text-align: right;\">\n",
       "      <th></th>\n",
       "      <th>USD</th>\n",
       "      <th>year</th>\n",
       "      <th>month</th>\n",
       "      <th>day</th>\n",
       "      <th>week_of_year</th>\n",
       "      <th>week_of_month</th>\n",
       "      <th>day_of_week</th>\n",
       "      <th>month_sin1</th>\n",
       "      <th>month_cos1</th>\n",
       "      <th>month_sin2</th>\n",
       "      <th>month_cos2</th>\n",
       "      <th>harmonic_pred</th>\n",
       "    </tr>\n",
       "  </thead>\n",
       "  <tbody>\n",
       "    <tr>\n",
       "      <th>2024-03-05</th>\n",
       "      <td>1.0849</td>\n",
       "      <td>2024</td>\n",
       "      <td>3</td>\n",
       "      <td>5</td>\n",
       "      <td>10</td>\n",
       "      <td>1</td>\n",
       "      <td>2</td>\n",
       "      <td>-1.000000e+00</td>\n",
       "      <td>-1.836970e-16</td>\n",
       "      <td>3.673940e-16</td>\n",
       "      <td>-1.0</td>\n",
       "      <td>1.087220</td>\n",
       "    </tr>\n",
       "    <tr>\n",
       "      <th>2024-03-04</th>\n",
       "      <td>1.0846</td>\n",
       "      <td>2024</td>\n",
       "      <td>3</td>\n",
       "      <td>4</td>\n",
       "      <td>10</td>\n",
       "      <td>1</td>\n",
       "      <td>1</td>\n",
       "      <td>-1.000000e+00</td>\n",
       "      <td>-1.836970e-16</td>\n",
       "      <td>3.673940e-16</td>\n",
       "      <td>-1.0</td>\n",
       "      <td>1.087220</td>\n",
       "    </tr>\n",
       "    <tr>\n",
       "      <th>2024-03-01</th>\n",
       "      <td>1.0813</td>\n",
       "      <td>2024</td>\n",
       "      <td>3</td>\n",
       "      <td>1</td>\n",
       "      <td>9</td>\n",
       "      <td>1</td>\n",
       "      <td>5</td>\n",
       "      <td>-1.000000e+00</td>\n",
       "      <td>-1.836970e-16</td>\n",
       "      <td>3.673940e-16</td>\n",
       "      <td>-1.0</td>\n",
       "      <td>1.087220</td>\n",
       "    </tr>\n",
       "    <tr>\n",
       "      <th>2024-02-29</th>\n",
       "      <td>1.0826</td>\n",
       "      <td>2024</td>\n",
       "      <td>2</td>\n",
       "      <td>29</td>\n",
       "      <td>9</td>\n",
       "      <td>5</td>\n",
       "      <td>4</td>\n",
       "      <td>1.224647e-16</td>\n",
       "      <td>-1.000000e+00</td>\n",
       "      <td>-2.449294e-16</td>\n",
       "      <td>1.0</td>\n",
       "      <td>1.079471</td>\n",
       "    </tr>\n",
       "    <tr>\n",
       "      <th>2024-02-28</th>\n",
       "      <td>1.0808</td>\n",
       "      <td>2024</td>\n",
       "      <td>2</td>\n",
       "      <td>28</td>\n",
       "      <td>9</td>\n",
       "      <td>4</td>\n",
       "      <td>3</td>\n",
       "      <td>1.224647e-16</td>\n",
       "      <td>-1.000000e+00</td>\n",
       "      <td>-2.449294e-16</td>\n",
       "      <td>1.0</td>\n",
       "      <td>1.079471</td>\n",
       "    </tr>\n",
       "    <tr>\n",
       "      <th>2024-02-27</th>\n",
       "      <td>1.0856</td>\n",
       "      <td>2024</td>\n",
       "      <td>2</td>\n",
       "      <td>27</td>\n",
       "      <td>9</td>\n",
       "      <td>4</td>\n",
       "      <td>2</td>\n",
       "      <td>1.224647e-16</td>\n",
       "      <td>-1.000000e+00</td>\n",
       "      <td>-2.449294e-16</td>\n",
       "      <td>1.0</td>\n",
       "      <td>1.079471</td>\n",
       "    </tr>\n",
       "    <tr>\n",
       "      <th>2024-02-26</th>\n",
       "      <td>1.0852</td>\n",
       "      <td>2024</td>\n",
       "      <td>2</td>\n",
       "      <td>26</td>\n",
       "      <td>9</td>\n",
       "      <td>4</td>\n",
       "      <td>1</td>\n",
       "      <td>1.224647e-16</td>\n",
       "      <td>-1.000000e+00</td>\n",
       "      <td>-2.449294e-16</td>\n",
       "      <td>1.0</td>\n",
       "      <td>1.079471</td>\n",
       "    </tr>\n",
       "    <tr>\n",
       "      <th>2024-02-23</th>\n",
       "      <td>1.0834</td>\n",
       "      <td>2024</td>\n",
       "      <td>2</td>\n",
       "      <td>23</td>\n",
       "      <td>8</td>\n",
       "      <td>4</td>\n",
       "      <td>5</td>\n",
       "      <td>1.224647e-16</td>\n",
       "      <td>-1.000000e+00</td>\n",
       "      <td>-2.449294e-16</td>\n",
       "      <td>1.0</td>\n",
       "      <td>1.079471</td>\n",
       "    </tr>\n",
       "    <tr>\n",
       "      <th>2024-02-22</th>\n",
       "      <td>1.0844</td>\n",
       "      <td>2024</td>\n",
       "      <td>2</td>\n",
       "      <td>22</td>\n",
       "      <td>8</td>\n",
       "      <td>4</td>\n",
       "      <td>4</td>\n",
       "      <td>1.224647e-16</td>\n",
       "      <td>-1.000000e+00</td>\n",
       "      <td>-2.449294e-16</td>\n",
       "      <td>1.0</td>\n",
       "      <td>1.079471</td>\n",
       "    </tr>\n",
       "    <tr>\n",
       "      <th>2024-02-21</th>\n",
       "      <td>1.0809</td>\n",
       "      <td>2024</td>\n",
       "      <td>2</td>\n",
       "      <td>21</td>\n",
       "      <td>8</td>\n",
       "      <td>3</td>\n",
       "      <td>3</td>\n",
       "      <td>1.224647e-16</td>\n",
       "      <td>-1.000000e+00</td>\n",
       "      <td>-2.449294e-16</td>\n",
       "      <td>1.0</td>\n",
       "      <td>1.079471</td>\n",
       "    </tr>\n",
       "    <tr>\n",
       "      <th>2024-02-20</th>\n",
       "      <td>1.0802</td>\n",
       "      <td>2024</td>\n",
       "      <td>2</td>\n",
       "      <td>20</td>\n",
       "      <td>8</td>\n",
       "      <td>3</td>\n",
       "      <td>2</td>\n",
       "      <td>1.224647e-16</td>\n",
       "      <td>-1.000000e+00</td>\n",
       "      <td>-2.449294e-16</td>\n",
       "      <td>1.0</td>\n",
       "      <td>1.079471</td>\n",
       "    </tr>\n",
       "    <tr>\n",
       "      <th>2024-02-19</th>\n",
       "      <td>1.0776</td>\n",
       "      <td>2024</td>\n",
       "      <td>2</td>\n",
       "      <td>19</td>\n",
       "      <td>8</td>\n",
       "      <td>3</td>\n",
       "      <td>1</td>\n",
       "      <td>1.224647e-16</td>\n",
       "      <td>-1.000000e+00</td>\n",
       "      <td>-2.449294e-16</td>\n",
       "      <td>1.0</td>\n",
       "      <td>1.079471</td>\n",
       "    </tr>\n",
       "    <tr>\n",
       "      <th>2024-02-16</th>\n",
       "      <td>1.0768</td>\n",
       "      <td>2024</td>\n",
       "      <td>2</td>\n",
       "      <td>16</td>\n",
       "      <td>7</td>\n",
       "      <td>3</td>\n",
       "      <td>5</td>\n",
       "      <td>1.224647e-16</td>\n",
       "      <td>-1.000000e+00</td>\n",
       "      <td>-2.449294e-16</td>\n",
       "      <td>1.0</td>\n",
       "      <td>1.079471</td>\n",
       "    </tr>\n",
       "    <tr>\n",
       "      <th>2024-02-15</th>\n",
       "      <td>1.0743</td>\n",
       "      <td>2024</td>\n",
       "      <td>2</td>\n",
       "      <td>15</td>\n",
       "      <td>7</td>\n",
       "      <td>3</td>\n",
       "      <td>4</td>\n",
       "      <td>1.224647e-16</td>\n",
       "      <td>-1.000000e+00</td>\n",
       "      <td>-2.449294e-16</td>\n",
       "      <td>1.0</td>\n",
       "      <td>1.079471</td>\n",
       "    </tr>\n",
       "    <tr>\n",
       "      <th>2024-02-14</th>\n",
       "      <td>1.0713</td>\n",
       "      <td>2024</td>\n",
       "      <td>2</td>\n",
       "      <td>14</td>\n",
       "      <td>7</td>\n",
       "      <td>2</td>\n",
       "      <td>3</td>\n",
       "      <td>1.224647e-16</td>\n",
       "      <td>-1.000000e+00</td>\n",
       "      <td>-2.449294e-16</td>\n",
       "      <td>1.0</td>\n",
       "      <td>1.079471</td>\n",
       "    </tr>\n",
       "    <tr>\n",
       "      <th>2024-02-13</th>\n",
       "      <td>1.0793</td>\n",
       "      <td>2024</td>\n",
       "      <td>2</td>\n",
       "      <td>13</td>\n",
       "      <td>7</td>\n",
       "      <td>2</td>\n",
       "      <td>2</td>\n",
       "      <td>1.224647e-16</td>\n",
       "      <td>-1.000000e+00</td>\n",
       "      <td>-2.449294e-16</td>\n",
       "      <td>1.0</td>\n",
       "      <td>1.079471</td>\n",
       "    </tr>\n",
       "    <tr>\n",
       "      <th>2024-02-12</th>\n",
       "      <td>1.0773</td>\n",
       "      <td>2024</td>\n",
       "      <td>2</td>\n",
       "      <td>12</td>\n",
       "      <td>7</td>\n",
       "      <td>2</td>\n",
       "      <td>1</td>\n",
       "      <td>1.224647e-16</td>\n",
       "      <td>-1.000000e+00</td>\n",
       "      <td>-2.449294e-16</td>\n",
       "      <td>1.0</td>\n",
       "      <td>1.079471</td>\n",
       "    </tr>\n",
       "    <tr>\n",
       "      <th>2024-02-09</th>\n",
       "      <td>1.0772</td>\n",
       "      <td>2024</td>\n",
       "      <td>2</td>\n",
       "      <td>9</td>\n",
       "      <td>6</td>\n",
       "      <td>2</td>\n",
       "      <td>5</td>\n",
       "      <td>1.224647e-16</td>\n",
       "      <td>-1.000000e+00</td>\n",
       "      <td>-2.449294e-16</td>\n",
       "      <td>1.0</td>\n",
       "      <td>1.079471</td>\n",
       "    </tr>\n",
       "    <tr>\n",
       "      <th>2024-02-08</th>\n",
       "      <td>1.0758</td>\n",
       "      <td>2024</td>\n",
       "      <td>2</td>\n",
       "      <td>8</td>\n",
       "      <td>6</td>\n",
       "      <td>2</td>\n",
       "      <td>4</td>\n",
       "      <td>1.224647e-16</td>\n",
       "      <td>-1.000000e+00</td>\n",
       "      <td>-2.449294e-16</td>\n",
       "      <td>1.0</td>\n",
       "      <td>1.079471</td>\n",
       "    </tr>\n",
       "    <tr>\n",
       "      <th>2024-02-07</th>\n",
       "      <td>1.0776</td>\n",
       "      <td>2024</td>\n",
       "      <td>2</td>\n",
       "      <td>7</td>\n",
       "      <td>6</td>\n",
       "      <td>1</td>\n",
       "      <td>3</td>\n",
       "      <td>1.224647e-16</td>\n",
       "      <td>-1.000000e+00</td>\n",
       "      <td>-2.449294e-16</td>\n",
       "      <td>1.0</td>\n",
       "      <td>1.079471</td>\n",
       "    </tr>\n",
       "  </tbody>\n",
       "</table>\n",
       "</div>"
      ],
      "text/plain": [
       "               USD  year  month  day  week_of_year  week_of_month  \\\n",
       "2024-03-05  1.0849  2024      3    5            10              1   \n",
       "2024-03-04  1.0846  2024      3    4            10              1   \n",
       "2024-03-01  1.0813  2024      3    1             9              1   \n",
       "2024-02-29  1.0826  2024      2   29             9              5   \n",
       "2024-02-28  1.0808  2024      2   28             9              4   \n",
       "2024-02-27  1.0856  2024      2   27             9              4   \n",
       "2024-02-26  1.0852  2024      2   26             9              4   \n",
       "2024-02-23  1.0834  2024      2   23             8              4   \n",
       "2024-02-22  1.0844  2024      2   22             8              4   \n",
       "2024-02-21  1.0809  2024      2   21             8              3   \n",
       "2024-02-20  1.0802  2024      2   20             8              3   \n",
       "2024-02-19  1.0776  2024      2   19             8              3   \n",
       "2024-02-16  1.0768  2024      2   16             7              3   \n",
       "2024-02-15  1.0743  2024      2   15             7              3   \n",
       "2024-02-14  1.0713  2024      2   14             7              2   \n",
       "2024-02-13  1.0793  2024      2   13             7              2   \n",
       "2024-02-12  1.0773  2024      2   12             7              2   \n",
       "2024-02-09  1.0772  2024      2    9             6              2   \n",
       "2024-02-08  1.0758  2024      2    8             6              2   \n",
       "2024-02-07  1.0776  2024      2    7             6              1   \n",
       "\n",
       "            day_of_week    month_sin1    month_cos1    month_sin2  month_cos2  \\\n",
       "2024-03-05            2 -1.000000e+00 -1.836970e-16  3.673940e-16        -1.0   \n",
       "2024-03-04            1 -1.000000e+00 -1.836970e-16  3.673940e-16        -1.0   \n",
       "2024-03-01            5 -1.000000e+00 -1.836970e-16  3.673940e-16        -1.0   \n",
       "2024-02-29            4  1.224647e-16 -1.000000e+00 -2.449294e-16         1.0   \n",
       "2024-02-28            3  1.224647e-16 -1.000000e+00 -2.449294e-16         1.0   \n",
       "2024-02-27            2  1.224647e-16 -1.000000e+00 -2.449294e-16         1.0   \n",
       "2024-02-26            1  1.224647e-16 -1.000000e+00 -2.449294e-16         1.0   \n",
       "2024-02-23            5  1.224647e-16 -1.000000e+00 -2.449294e-16         1.0   \n",
       "2024-02-22            4  1.224647e-16 -1.000000e+00 -2.449294e-16         1.0   \n",
       "2024-02-21            3  1.224647e-16 -1.000000e+00 -2.449294e-16         1.0   \n",
       "2024-02-20            2  1.224647e-16 -1.000000e+00 -2.449294e-16         1.0   \n",
       "2024-02-19            1  1.224647e-16 -1.000000e+00 -2.449294e-16         1.0   \n",
       "2024-02-16            5  1.224647e-16 -1.000000e+00 -2.449294e-16         1.0   \n",
       "2024-02-15            4  1.224647e-16 -1.000000e+00 -2.449294e-16         1.0   \n",
       "2024-02-14            3  1.224647e-16 -1.000000e+00 -2.449294e-16         1.0   \n",
       "2024-02-13            2  1.224647e-16 -1.000000e+00 -2.449294e-16         1.0   \n",
       "2024-02-12            1  1.224647e-16 -1.000000e+00 -2.449294e-16         1.0   \n",
       "2024-02-09            5  1.224647e-16 -1.000000e+00 -2.449294e-16         1.0   \n",
       "2024-02-08            4  1.224647e-16 -1.000000e+00 -2.449294e-16         1.0   \n",
       "2024-02-07            3  1.224647e-16 -1.000000e+00 -2.449294e-16         1.0   \n",
       "\n",
       "            harmonic_pred  \n",
       "2024-03-05       1.087220  \n",
       "2024-03-04       1.087220  \n",
       "2024-03-01       1.087220  \n",
       "2024-02-29       1.079471  \n",
       "2024-02-28       1.079471  \n",
       "2024-02-27       1.079471  \n",
       "2024-02-26       1.079471  \n",
       "2024-02-23       1.079471  \n",
       "2024-02-22       1.079471  \n",
       "2024-02-21       1.079471  \n",
       "2024-02-20       1.079471  \n",
       "2024-02-19       1.079471  \n",
       "2024-02-16       1.079471  \n",
       "2024-02-15       1.079471  \n",
       "2024-02-14       1.079471  \n",
       "2024-02-13       1.079471  \n",
       "2024-02-12       1.079471  \n",
       "2024-02-09       1.079471  \n",
       "2024-02-08       1.079471  \n",
       "2024-02-07       1.079471  "
      ]
     },
     "execution_count": 10,
     "metadata": {},
     "output_type": "execute_result"
    }
   ],
   "source": [
    "# Display the head of the DataFrame with predictions\n",
    "df_with_preds.iloc[21:41]\n"
   ]
  },
  {
   "cell_type": "code",
   "execution_count": 11,
   "metadata": {},
   "outputs": [
    {
     "data": {
      "text/html": [
       "<div>\n",
       "<style scoped>\n",
       "    .dataframe tbody tr th:only-of-type {\n",
       "        vertical-align: middle;\n",
       "    }\n",
       "\n",
       "    .dataframe tbody tr th {\n",
       "        vertical-align: top;\n",
       "    }\n",
       "\n",
       "    .dataframe thead th {\n",
       "        text-align: right;\n",
       "    }\n",
       "</style>\n",
       "<table border=\"1\" class=\"dataframe\">\n",
       "  <thead>\n",
       "    <tr style=\"text-align: right;\">\n",
       "      <th></th>\n",
       "      <th>USD</th>\n",
       "      <th>year</th>\n",
       "      <th>month</th>\n",
       "      <th>day</th>\n",
       "      <th>week_of_year</th>\n",
       "      <th>week_of_month</th>\n",
       "      <th>day_of_week</th>\n",
       "      <th>month_sin1</th>\n",
       "      <th>month_cos1</th>\n",
       "      <th>month_sin2</th>\n",
       "      <th>month_cos2</th>\n",
       "      <th>harmonic_pred</th>\n",
       "    </tr>\n",
       "  </thead>\n",
       "  <tbody>\n",
       "    <tr>\n",
       "      <th>2024-04-05</th>\n",
       "      <td>1.0841</td>\n",
       "      <td>2024</td>\n",
       "      <td>4</td>\n",
       "      <td>5</td>\n",
       "      <td>14</td>\n",
       "      <td>1</td>\n",
       "      <td>5</td>\n",
       "      <td>-2.449294e-16</td>\n",
       "      <td>1.000000e+00</td>\n",
       "      <td>-4.898587e-16</td>\n",
       "      <td>1.0</td>\n",
       "      <td>1.080625</td>\n",
       "    </tr>\n",
       "    <tr>\n",
       "      <th>2024-04-04</th>\n",
       "      <td>1.0852</td>\n",
       "      <td>2024</td>\n",
       "      <td>4</td>\n",
       "      <td>4</td>\n",
       "      <td>14</td>\n",
       "      <td>1</td>\n",
       "      <td>4</td>\n",
       "      <td>-2.449294e-16</td>\n",
       "      <td>1.000000e+00</td>\n",
       "      <td>-4.898587e-16</td>\n",
       "      <td>1.0</td>\n",
       "      <td>1.080625</td>\n",
       "    </tr>\n",
       "    <tr>\n",
       "      <th>2024-04-03</th>\n",
       "      <td>1.0783</td>\n",
       "      <td>2024</td>\n",
       "      <td>4</td>\n",
       "      <td>3</td>\n",
       "      <td>14</td>\n",
       "      <td>1</td>\n",
       "      <td>3</td>\n",
       "      <td>-2.449294e-16</td>\n",
       "      <td>1.000000e+00</td>\n",
       "      <td>-4.898587e-16</td>\n",
       "      <td>1.0</td>\n",
       "      <td>1.080625</td>\n",
       "    </tr>\n",
       "    <tr>\n",
       "      <th>2024-04-02</th>\n",
       "      <td>1.0749</td>\n",
       "      <td>2024</td>\n",
       "      <td>4</td>\n",
       "      <td>2</td>\n",
       "      <td>14</td>\n",
       "      <td>1</td>\n",
       "      <td>2</td>\n",
       "      <td>-2.449294e-16</td>\n",
       "      <td>1.000000e+00</td>\n",
       "      <td>-4.898587e-16</td>\n",
       "      <td>1.0</td>\n",
       "      <td>1.080625</td>\n",
       "    </tr>\n",
       "    <tr>\n",
       "      <th>2024-03-28</th>\n",
       "      <td>1.0811</td>\n",
       "      <td>2024</td>\n",
       "      <td>3</td>\n",
       "      <td>28</td>\n",
       "      <td>13</td>\n",
       "      <td>4</td>\n",
       "      <td>4</td>\n",
       "      <td>-1.000000e+00</td>\n",
       "      <td>-1.836970e-16</td>\n",
       "      <td>3.673940e-16</td>\n",
       "      <td>-1.0</td>\n",
       "      <td>1.087220</td>\n",
       "    </tr>\n",
       "    <tr>\n",
       "      <th>2024-03-27</th>\n",
       "      <td>1.0816</td>\n",
       "      <td>2024</td>\n",
       "      <td>3</td>\n",
       "      <td>27</td>\n",
       "      <td>13</td>\n",
       "      <td>4</td>\n",
       "      <td>3</td>\n",
       "      <td>-1.000000e+00</td>\n",
       "      <td>-1.836970e-16</td>\n",
       "      <td>3.673940e-16</td>\n",
       "      <td>-1.0</td>\n",
       "      <td>1.087220</td>\n",
       "    </tr>\n",
       "    <tr>\n",
       "      <th>2024-03-26</th>\n",
       "      <td>1.0855</td>\n",
       "      <td>2024</td>\n",
       "      <td>3</td>\n",
       "      <td>26</td>\n",
       "      <td>13</td>\n",
       "      <td>4</td>\n",
       "      <td>2</td>\n",
       "      <td>-1.000000e+00</td>\n",
       "      <td>-1.836970e-16</td>\n",
       "      <td>3.673940e-16</td>\n",
       "      <td>-1.0</td>\n",
       "      <td>1.087220</td>\n",
       "    </tr>\n",
       "    <tr>\n",
       "      <th>2024-03-25</th>\n",
       "      <td>1.0835</td>\n",
       "      <td>2024</td>\n",
       "      <td>3</td>\n",
       "      <td>25</td>\n",
       "      <td>13</td>\n",
       "      <td>4</td>\n",
       "      <td>1</td>\n",
       "      <td>-1.000000e+00</td>\n",
       "      <td>-1.836970e-16</td>\n",
       "      <td>3.673940e-16</td>\n",
       "      <td>-1.0</td>\n",
       "      <td>1.087220</td>\n",
       "    </tr>\n",
       "    <tr>\n",
       "      <th>2024-03-22</th>\n",
       "      <td>1.0823</td>\n",
       "      <td>2024</td>\n",
       "      <td>3</td>\n",
       "      <td>22</td>\n",
       "      <td>12</td>\n",
       "      <td>4</td>\n",
       "      <td>5</td>\n",
       "      <td>-1.000000e+00</td>\n",
       "      <td>-1.836970e-16</td>\n",
       "      <td>3.673940e-16</td>\n",
       "      <td>-1.0</td>\n",
       "      <td>1.087220</td>\n",
       "    </tr>\n",
       "    <tr>\n",
       "      <th>2024-03-21</th>\n",
       "      <td>1.0907</td>\n",
       "      <td>2024</td>\n",
       "      <td>3</td>\n",
       "      <td>21</td>\n",
       "      <td>12</td>\n",
       "      <td>3</td>\n",
       "      <td>4</td>\n",
       "      <td>-1.000000e+00</td>\n",
       "      <td>-1.836970e-16</td>\n",
       "      <td>3.673940e-16</td>\n",
       "      <td>-1.0</td>\n",
       "      <td>1.087220</td>\n",
       "    </tr>\n",
       "  </tbody>\n",
       "</table>\n",
       "</div>"
      ],
      "text/plain": [
       "               USD  year  month  day  week_of_year  week_of_month  \\\n",
       "2024-04-05  1.0841  2024      4    5            14              1   \n",
       "2024-04-04  1.0852  2024      4    4            14              1   \n",
       "2024-04-03  1.0783  2024      4    3            14              1   \n",
       "2024-04-02  1.0749  2024      4    2            14              1   \n",
       "2024-03-28  1.0811  2024      3   28            13              4   \n",
       "2024-03-27  1.0816  2024      3   27            13              4   \n",
       "2024-03-26  1.0855  2024      3   26            13              4   \n",
       "2024-03-25  1.0835  2024      3   25            13              4   \n",
       "2024-03-22  1.0823  2024      3   22            12              4   \n",
       "2024-03-21  1.0907  2024      3   21            12              3   \n",
       "\n",
       "            day_of_week    month_sin1    month_cos1    month_sin2  month_cos2  \\\n",
       "2024-04-05            5 -2.449294e-16  1.000000e+00 -4.898587e-16         1.0   \n",
       "2024-04-04            4 -2.449294e-16  1.000000e+00 -4.898587e-16         1.0   \n",
       "2024-04-03            3 -2.449294e-16  1.000000e+00 -4.898587e-16         1.0   \n",
       "2024-04-02            2 -2.449294e-16  1.000000e+00 -4.898587e-16         1.0   \n",
       "2024-03-28            4 -1.000000e+00 -1.836970e-16  3.673940e-16        -1.0   \n",
       "2024-03-27            3 -1.000000e+00 -1.836970e-16  3.673940e-16        -1.0   \n",
       "2024-03-26            2 -1.000000e+00 -1.836970e-16  3.673940e-16        -1.0   \n",
       "2024-03-25            1 -1.000000e+00 -1.836970e-16  3.673940e-16        -1.0   \n",
       "2024-03-22            5 -1.000000e+00 -1.836970e-16  3.673940e-16        -1.0   \n",
       "2024-03-21            4 -1.000000e+00 -1.836970e-16  3.673940e-16        -1.0   \n",
       "\n",
       "            harmonic_pred  \n",
       "2024-04-05       1.080625  \n",
       "2024-04-04       1.080625  \n",
       "2024-04-03       1.080625  \n",
       "2024-04-02       1.080625  \n",
       "2024-03-28       1.087220  \n",
       "2024-03-27       1.087220  \n",
       "2024-03-26       1.087220  \n",
       "2024-03-25       1.087220  \n",
       "2024-03-22       1.087220  \n",
       "2024-03-21       1.087220  "
      ]
     },
     "execution_count": 11,
     "metadata": {},
     "output_type": "execute_result"
    }
   ],
   "source": [
    "df_with_preds.head(10)\n"
   ]
  },
  {
   "cell_type": "code",
   "execution_count": 12,
   "metadata": {},
   "outputs": [
    {
     "data": {
      "text/html": [
       "<div>\n",
       "<style scoped>\n",
       "    .dataframe tbody tr th:only-of-type {\n",
       "        vertical-align: middle;\n",
       "    }\n",
       "\n",
       "    .dataframe tbody tr th {\n",
       "        vertical-align: top;\n",
       "    }\n",
       "\n",
       "    .dataframe thead th {\n",
       "        text-align: right;\n",
       "    }\n",
       "</style>\n",
       "<table border=\"1\" class=\"dataframe\">\n",
       "  <thead>\n",
       "    <tr style=\"text-align: right;\">\n",
       "      <th></th>\n",
       "      <th>USD</th>\n",
       "      <th>year</th>\n",
       "      <th>month</th>\n",
       "      <th>day</th>\n",
       "      <th>week_of_year</th>\n",
       "      <th>week_of_month</th>\n",
       "      <th>day_of_week</th>\n",
       "      <th>month_sin1</th>\n",
       "      <th>month_cos1</th>\n",
       "      <th>month_sin2</th>\n",
       "      <th>month_cos2</th>\n",
       "      <th>harmonic_pred</th>\n",
       "    </tr>\n",
       "  </thead>\n",
       "  <tbody>\n",
       "    <tr>\n",
       "      <th>2024-01-19</th>\n",
       "      <td>1.0887</td>\n",
       "      <td>2024</td>\n",
       "      <td>1</td>\n",
       "      <td>19</td>\n",
       "      <td>3</td>\n",
       "      <td>3</td>\n",
       "      <td>5</td>\n",
       "      <td>1.0</td>\n",
       "      <td>6.123234e-17</td>\n",
       "      <td>1.224647e-16</td>\n",
       "      <td>-1.0</td>\n",
       "      <td>1.0898</td>\n",
       "    </tr>\n",
       "    <tr>\n",
       "      <th>2024-01-18</th>\n",
       "      <td>1.0875</td>\n",
       "      <td>2024</td>\n",
       "      <td>1</td>\n",
       "      <td>18</td>\n",
       "      <td>3</td>\n",
       "      <td>3</td>\n",
       "      <td>4</td>\n",
       "      <td>1.0</td>\n",
       "      <td>6.123234e-17</td>\n",
       "      <td>1.224647e-16</td>\n",
       "      <td>-1.0</td>\n",
       "      <td>1.0898</td>\n",
       "    </tr>\n",
       "    <tr>\n",
       "      <th>2024-01-17</th>\n",
       "      <td>1.0877</td>\n",
       "      <td>2024</td>\n",
       "      <td>1</td>\n",
       "      <td>17</td>\n",
       "      <td>3</td>\n",
       "      <td>3</td>\n",
       "      <td>3</td>\n",
       "      <td>1.0</td>\n",
       "      <td>6.123234e-17</td>\n",
       "      <td>1.224647e-16</td>\n",
       "      <td>-1.0</td>\n",
       "      <td>1.0898</td>\n",
       "    </tr>\n",
       "    <tr>\n",
       "      <th>2024-01-16</th>\n",
       "      <td>1.0882</td>\n",
       "      <td>2024</td>\n",
       "      <td>1</td>\n",
       "      <td>16</td>\n",
       "      <td>3</td>\n",
       "      <td>3</td>\n",
       "      <td>2</td>\n",
       "      <td>1.0</td>\n",
       "      <td>6.123234e-17</td>\n",
       "      <td>1.224647e-16</td>\n",
       "      <td>-1.0</td>\n",
       "      <td>1.0898</td>\n",
       "    </tr>\n",
       "    <tr>\n",
       "      <th>2024-01-15</th>\n",
       "      <td>1.0945</td>\n",
       "      <td>2024</td>\n",
       "      <td>1</td>\n",
       "      <td>15</td>\n",
       "      <td>3</td>\n",
       "      <td>3</td>\n",
       "      <td>1</td>\n",
       "      <td>1.0</td>\n",
       "      <td>6.123234e-17</td>\n",
       "      <td>1.224647e-16</td>\n",
       "      <td>-1.0</td>\n",
       "      <td>1.0898</td>\n",
       "    </tr>\n",
       "    <tr>\n",
       "      <th>2024-01-12</th>\n",
       "      <td>1.0942</td>\n",
       "      <td>2024</td>\n",
       "      <td>1</td>\n",
       "      <td>12</td>\n",
       "      <td>2</td>\n",
       "      <td>2</td>\n",
       "      <td>5</td>\n",
       "      <td>1.0</td>\n",
       "      <td>6.123234e-17</td>\n",
       "      <td>1.224647e-16</td>\n",
       "      <td>-1.0</td>\n",
       "      <td>1.0898</td>\n",
       "    </tr>\n",
       "    <tr>\n",
       "      <th>2024-01-11</th>\n",
       "      <td>1.0987</td>\n",
       "      <td>2024</td>\n",
       "      <td>1</td>\n",
       "      <td>11</td>\n",
       "      <td>2</td>\n",
       "      <td>2</td>\n",
       "      <td>4</td>\n",
       "      <td>1.0</td>\n",
       "      <td>6.123234e-17</td>\n",
       "      <td>1.224647e-16</td>\n",
       "      <td>-1.0</td>\n",
       "      <td>1.0898</td>\n",
       "    </tr>\n",
       "    <tr>\n",
       "      <th>2024-01-10</th>\n",
       "      <td>1.0946</td>\n",
       "      <td>2024</td>\n",
       "      <td>1</td>\n",
       "      <td>10</td>\n",
       "      <td>2</td>\n",
       "      <td>2</td>\n",
       "      <td>3</td>\n",
       "      <td>1.0</td>\n",
       "      <td>6.123234e-17</td>\n",
       "      <td>1.224647e-16</td>\n",
       "      <td>-1.0</td>\n",
       "      <td>1.0898</td>\n",
       "    </tr>\n",
       "    <tr>\n",
       "      <th>2024-01-09</th>\n",
       "      <td>1.0940</td>\n",
       "      <td>2024</td>\n",
       "      <td>1</td>\n",
       "      <td>9</td>\n",
       "      <td>2</td>\n",
       "      <td>2</td>\n",
       "      <td>2</td>\n",
       "      <td>1.0</td>\n",
       "      <td>6.123234e-17</td>\n",
       "      <td>1.224647e-16</td>\n",
       "      <td>-1.0</td>\n",
       "      <td>1.0898</td>\n",
       "    </tr>\n",
       "    <tr>\n",
       "      <th>2024-01-08</th>\n",
       "      <td>1.0946</td>\n",
       "      <td>2024</td>\n",
       "      <td>1</td>\n",
       "      <td>8</td>\n",
       "      <td>2</td>\n",
       "      <td>2</td>\n",
       "      <td>1</td>\n",
       "      <td>1.0</td>\n",
       "      <td>6.123234e-17</td>\n",
       "      <td>1.224647e-16</td>\n",
       "      <td>-1.0</td>\n",
       "      <td>1.0898</td>\n",
       "    </tr>\n",
       "  </tbody>\n",
       "</table>\n",
       "</div>"
      ],
      "text/plain": [
       "               USD  year  month  day  week_of_year  week_of_month  \\\n",
       "2024-01-19  1.0887  2024      1   19             3              3   \n",
       "2024-01-18  1.0875  2024      1   18             3              3   \n",
       "2024-01-17  1.0877  2024      1   17             3              3   \n",
       "2024-01-16  1.0882  2024      1   16             3              3   \n",
       "2024-01-15  1.0945  2024      1   15             3              3   \n",
       "2024-01-12  1.0942  2024      1   12             2              2   \n",
       "2024-01-11  1.0987  2024      1   11             2              2   \n",
       "2024-01-10  1.0946  2024      1   10             2              2   \n",
       "2024-01-09  1.0940  2024      1    9             2              2   \n",
       "2024-01-08  1.0946  2024      1    8             2              2   \n",
       "\n",
       "            day_of_week  month_sin1    month_cos1    month_sin2  month_cos2  \\\n",
       "2024-01-19            5         1.0  6.123234e-17  1.224647e-16        -1.0   \n",
       "2024-01-18            4         1.0  6.123234e-17  1.224647e-16        -1.0   \n",
       "2024-01-17            3         1.0  6.123234e-17  1.224647e-16        -1.0   \n",
       "2024-01-16            2         1.0  6.123234e-17  1.224647e-16        -1.0   \n",
       "2024-01-15            1         1.0  6.123234e-17  1.224647e-16        -1.0   \n",
       "2024-01-12            5         1.0  6.123234e-17  1.224647e-16        -1.0   \n",
       "2024-01-11            4         1.0  6.123234e-17  1.224647e-16        -1.0   \n",
       "2024-01-10            3         1.0  6.123234e-17  1.224647e-16        -1.0   \n",
       "2024-01-09            2         1.0  6.123234e-17  1.224647e-16        -1.0   \n",
       "2024-01-08            1         1.0  6.123234e-17  1.224647e-16        -1.0   \n",
       "\n",
       "            harmonic_pred  \n",
       "2024-01-19         1.0898  \n",
       "2024-01-18         1.0898  \n",
       "2024-01-17         1.0898  \n",
       "2024-01-16         1.0898  \n",
       "2024-01-15         1.0898  \n",
       "2024-01-12         1.0898  \n",
       "2024-01-11         1.0898  \n",
       "2024-01-10         1.0898  \n",
       "2024-01-09         1.0898  \n",
       "2024-01-08         1.0898  "
      ]
     },
     "execution_count": 12,
     "metadata": {},
     "output_type": "execute_result"
    }
   ],
   "source": [
    "df_with_preds.tail(10)"
   ]
  },
  {
   "cell_type": "code",
   "execution_count": 12,
   "metadata": {},
   "outputs": [
    {
     "data": {
      "text/html": [
       "<div>\n",
       "<style scoped>\n",
       "    .dataframe tbody tr th:only-of-type {\n",
       "        vertical-align: middle;\n",
       "    }\n",
       "\n",
       "    .dataframe tbody tr th {\n",
       "        vertical-align: top;\n",
       "    }\n",
       "\n",
       "    .dataframe thead th {\n",
       "        text-align: right;\n",
       "    }\n",
       "</style>\n",
       "<table border=\"1\" class=\"dataframe\">\n",
       "  <thead>\n",
       "    <tr style=\"text-align: right;\">\n",
       "      <th></th>\n",
       "      <th>USD_t-10</th>\n",
       "      <th>USD_t-9</th>\n",
       "      <th>USD_t-8</th>\n",
       "      <th>USD_t-7</th>\n",
       "      <th>USD_t-6</th>\n",
       "      <th>USD_t-5</th>\n",
       "      <th>USD_t-4</th>\n",
       "      <th>USD_t-3</th>\n",
       "      <th>USD_t-2</th>\n",
       "      <th>USD_t-1</th>\n",
       "      <th>USD</th>\n",
       "    </tr>\n",
       "  </thead>\n",
       "  <tbody>\n",
       "    <tr>\n",
       "      <th>2024-01-22</th>\n",
       "      <td>1.0946</td>\n",
       "      <td>1.0940</td>\n",
       "      <td>1.0946</td>\n",
       "      <td>1.0987</td>\n",
       "      <td>1.0942</td>\n",
       "      <td>1.0945</td>\n",
       "      <td>1.0882</td>\n",
       "      <td>1.0877</td>\n",
       "      <td>1.0875</td>\n",
       "      <td>1.0887</td>\n",
       "      <td>1.0890</td>\n",
       "    </tr>\n",
       "    <tr>\n",
       "      <th>2024-01-23</th>\n",
       "      <td>1.0940</td>\n",
       "      <td>1.0946</td>\n",
       "      <td>1.0987</td>\n",
       "      <td>1.0942</td>\n",
       "      <td>1.0945</td>\n",
       "      <td>1.0882</td>\n",
       "      <td>1.0877</td>\n",
       "      <td>1.0875</td>\n",
       "      <td>1.0887</td>\n",
       "      <td>1.0890</td>\n",
       "      <td>1.0872</td>\n",
       "    </tr>\n",
       "    <tr>\n",
       "      <th>2024-01-24</th>\n",
       "      <td>1.0946</td>\n",
       "      <td>1.0987</td>\n",
       "      <td>1.0942</td>\n",
       "      <td>1.0945</td>\n",
       "      <td>1.0882</td>\n",
       "      <td>1.0877</td>\n",
       "      <td>1.0875</td>\n",
       "      <td>1.0887</td>\n",
       "      <td>1.0890</td>\n",
       "      <td>1.0872</td>\n",
       "      <td>1.0905</td>\n",
       "    </tr>\n",
       "    <tr>\n",
       "      <th>2024-01-25</th>\n",
       "      <td>1.0987</td>\n",
       "      <td>1.0942</td>\n",
       "      <td>1.0945</td>\n",
       "      <td>1.0882</td>\n",
       "      <td>1.0877</td>\n",
       "      <td>1.0875</td>\n",
       "      <td>1.0887</td>\n",
       "      <td>1.0890</td>\n",
       "      <td>1.0872</td>\n",
       "      <td>1.0905</td>\n",
       "      <td>1.0893</td>\n",
       "    </tr>\n",
       "    <tr>\n",
       "      <th>2024-01-26</th>\n",
       "      <td>1.0942</td>\n",
       "      <td>1.0945</td>\n",
       "      <td>1.0882</td>\n",
       "      <td>1.0877</td>\n",
       "      <td>1.0875</td>\n",
       "      <td>1.0887</td>\n",
       "      <td>1.0890</td>\n",
       "      <td>1.0872</td>\n",
       "      <td>1.0905</td>\n",
       "      <td>1.0893</td>\n",
       "      <td>1.0871</td>\n",
       "    </tr>\n",
       "    <tr>\n",
       "      <th>2024-01-29</th>\n",
       "      <td>1.0945</td>\n",
       "      <td>1.0882</td>\n",
       "      <td>1.0877</td>\n",
       "      <td>1.0875</td>\n",
       "      <td>1.0887</td>\n",
       "      <td>1.0890</td>\n",
       "      <td>1.0872</td>\n",
       "      <td>1.0905</td>\n",
       "      <td>1.0893</td>\n",
       "      <td>1.0871</td>\n",
       "      <td>1.0823</td>\n",
       "    </tr>\n",
       "    <tr>\n",
       "      <th>2024-01-30</th>\n",
       "      <td>1.0882</td>\n",
       "      <td>1.0877</td>\n",
       "      <td>1.0875</td>\n",
       "      <td>1.0887</td>\n",
       "      <td>1.0890</td>\n",
       "      <td>1.0872</td>\n",
       "      <td>1.0905</td>\n",
       "      <td>1.0893</td>\n",
       "      <td>1.0871</td>\n",
       "      <td>1.0823</td>\n",
       "      <td>1.0846</td>\n",
       "    </tr>\n",
       "    <tr>\n",
       "      <th>2024-01-31</th>\n",
       "      <td>1.0877</td>\n",
       "      <td>1.0875</td>\n",
       "      <td>1.0887</td>\n",
       "      <td>1.0890</td>\n",
       "      <td>1.0872</td>\n",
       "      <td>1.0905</td>\n",
       "      <td>1.0893</td>\n",
       "      <td>1.0871</td>\n",
       "      <td>1.0823</td>\n",
       "      <td>1.0846</td>\n",
       "      <td>1.0837</td>\n",
       "    </tr>\n",
       "    <tr>\n",
       "      <th>2024-02-01</th>\n",
       "      <td>1.0875</td>\n",
       "      <td>1.0887</td>\n",
       "      <td>1.0890</td>\n",
       "      <td>1.0872</td>\n",
       "      <td>1.0905</td>\n",
       "      <td>1.0893</td>\n",
       "      <td>1.0871</td>\n",
       "      <td>1.0823</td>\n",
       "      <td>1.0846</td>\n",
       "      <td>1.0837</td>\n",
       "      <td>1.0814</td>\n",
       "    </tr>\n",
       "    <tr>\n",
       "      <th>2024-02-02</th>\n",
       "      <td>1.0887</td>\n",
       "      <td>1.0890</td>\n",
       "      <td>1.0872</td>\n",
       "      <td>1.0905</td>\n",
       "      <td>1.0893</td>\n",
       "      <td>1.0871</td>\n",
       "      <td>1.0823</td>\n",
       "      <td>1.0846</td>\n",
       "      <td>1.0837</td>\n",
       "      <td>1.0814</td>\n",
       "      <td>1.0883</td>\n",
       "    </tr>\n",
       "    <tr>\n",
       "      <th>2024-02-05</th>\n",
       "      <td>1.0890</td>\n",
       "      <td>1.0872</td>\n",
       "      <td>1.0905</td>\n",
       "      <td>1.0893</td>\n",
       "      <td>1.0871</td>\n",
       "      <td>1.0823</td>\n",
       "      <td>1.0846</td>\n",
       "      <td>1.0837</td>\n",
       "      <td>1.0814</td>\n",
       "      <td>1.0883</td>\n",
       "      <td>1.0746</td>\n",
       "    </tr>\n",
       "  </tbody>\n",
       "</table>\n",
       "</div>"
      ],
      "text/plain": [
       "            USD_t-10  USD_t-9  USD_t-8  USD_t-7  USD_t-6  USD_t-5  USD_t-4  \\\n",
       "2024-01-22    1.0946   1.0940   1.0946   1.0987   1.0942   1.0945   1.0882   \n",
       "2024-01-23    1.0940   1.0946   1.0987   1.0942   1.0945   1.0882   1.0877   \n",
       "2024-01-24    1.0946   1.0987   1.0942   1.0945   1.0882   1.0877   1.0875   \n",
       "2024-01-25    1.0987   1.0942   1.0945   1.0882   1.0877   1.0875   1.0887   \n",
       "2024-01-26    1.0942   1.0945   1.0882   1.0877   1.0875   1.0887   1.0890   \n",
       "2024-01-29    1.0945   1.0882   1.0877   1.0875   1.0887   1.0890   1.0872   \n",
       "2024-01-30    1.0882   1.0877   1.0875   1.0887   1.0890   1.0872   1.0905   \n",
       "2024-01-31    1.0877   1.0875   1.0887   1.0890   1.0872   1.0905   1.0893   \n",
       "2024-02-01    1.0875   1.0887   1.0890   1.0872   1.0905   1.0893   1.0871   \n",
       "2024-02-02    1.0887   1.0890   1.0872   1.0905   1.0893   1.0871   1.0823   \n",
       "2024-02-05    1.0890   1.0872   1.0905   1.0893   1.0871   1.0823   1.0846   \n",
       "\n",
       "            USD_t-3  USD_t-2  USD_t-1     USD  \n",
       "2024-01-22   1.0877   1.0875   1.0887  1.0890  \n",
       "2024-01-23   1.0875   1.0887   1.0890  1.0872  \n",
       "2024-01-24   1.0887   1.0890   1.0872  1.0905  \n",
       "2024-01-25   1.0890   1.0872   1.0905  1.0893  \n",
       "2024-01-26   1.0872   1.0905   1.0893  1.0871  \n",
       "2024-01-29   1.0905   1.0893   1.0871  1.0823  \n",
       "2024-01-30   1.0893   1.0871   1.0823  1.0846  \n",
       "2024-01-31   1.0871   1.0823   1.0846  1.0837  \n",
       "2024-02-01   1.0823   1.0846   1.0837  1.0814  \n",
       "2024-02-02   1.0846   1.0837   1.0814  1.0883  \n",
       "2024-02-05   1.0837   1.0814   1.0883  1.0746  "
      ]
     },
     "metadata": {},
     "output_type": "display_data"
    },
    {
     "name": "stdout",
     "output_type": "stream",
     "text": [
      "Mean Squared Error: 2.0678955000002172e-05\n"
     ]
    }
   ],
   "source": [
    "# see https://www.youtube.com/watch?v=S_Z8RnTE5dI ~52:00 minute mark\n",
    "\n",
    "eleven_window = create_windowed_df(USD, 10, 'USD')\n",
    "display(eleven_window.head(11))\n",
    "\n",
    "from sklearn.model_selection import train_test_split\n",
    "from sklearn.ensemble import RandomForestRegressor\n",
    "from sklearn.metrics import mean_squared_error\n",
    "\n",
    "X = eleven_window.drop('USD', axis=1)  \n",
    "y = eleven_window['USD']  \n",
    "\n",
    "X_train, X_test, y_train, y_test = train_test_split(X, y, test_size=0.2, shuffle=False)\n",
    "\n",
    "rf_regressor = RandomForestRegressor(n_estimators=100, random_state=42)\n",
    "\n",
    "rf_regressor.fit(X_train, y_train)\n",
    "\n",
    "predictions = rf_regressor.predict(X_test)\n",
    "\n",
    "mse = mean_squared_error(y_test, predictions)\n",
    "print('Mean Squared Error:', mse)"
   ]
  },
  {
   "cell_type": "markdown",
   "metadata": {},
   "source": [
    "## Data Augmentation"
   ]
  },
  {
   "cell_type": "code",
   "execution_count": 11,
   "metadata": {},
   "outputs": [
    {
     "name": "stderr",
     "output_type": "stream",
     "text": [
      "c:\\Users\\Mayukh Sen\\AppData\\Local\\Programs\\Python\\Python310\\lib\\site-packages\\yfinance\\utils.py:775: FutureWarning: The 'unit' keyword in TimedeltaIndex construction is deprecated and will be removed in a future version. Use pd.to_timedelta instead.\n",
      "  df.index += _pd.TimedeltaIndex(dst_error_hours, 'h')\n"
     ]
    },
    {
     "data": {
      "text/html": [
       "<div>\n",
       "<style scoped>\n",
       "    .dataframe tbody tr th:only-of-type {\n",
       "        vertical-align: middle;\n",
       "    }\n",
       "\n",
       "    .dataframe tbody tr th {\n",
       "        vertical-align: top;\n",
       "    }\n",
       "\n",
       "    .dataframe thead th {\n",
       "        text-align: right;\n",
       "    }\n",
       "</style>\n",
       "<table border=\"1\" class=\"dataframe\">\n",
       "  <thead>\n",
       "    <tr style=\"text-align: right;\">\n",
       "      <th></th>\n",
       "      <th>Close</th>\n",
       "    </tr>\n",
       "  </thead>\n",
       "  <tbody>\n",
       "    <tr>\n",
       "      <th>2023-10-06</th>\n",
       "      <td>426.480408</td>\n",
       "    </tr>\n",
       "    <tr>\n",
       "      <th>2023-10-09</th>\n",
       "      <td>429.210815</td>\n",
       "    </tr>\n",
       "    <tr>\n",
       "      <th>2023-10-10</th>\n",
       "      <td>431.444794</td>\n",
       "    </tr>\n",
       "    <tr>\n",
       "      <th>2023-10-11</th>\n",
       "      <td>433.212128</td>\n",
       "    </tr>\n",
       "    <tr>\n",
       "      <th>2023-10-12</th>\n",
       "      <td>430.571075</td>\n",
       "    </tr>\n",
       "    <tr>\n",
       "      <th>...</th>\n",
       "      <td>...</td>\n",
       "    </tr>\n",
       "    <tr>\n",
       "      <th>2024-04-01</th>\n",
       "      <td>522.159973</td>\n",
       "    </tr>\n",
       "    <tr>\n",
       "      <th>2024-04-02</th>\n",
       "      <td>518.840027</td>\n",
       "    </tr>\n",
       "    <tr>\n",
       "      <th>2024-04-03</th>\n",
       "      <td>519.409973</td>\n",
       "    </tr>\n",
       "    <tr>\n",
       "      <th>2024-04-04</th>\n",
       "      <td>513.070007</td>\n",
       "    </tr>\n",
       "    <tr>\n",
       "      <th>2024-04-05</th>\n",
       "      <td>518.429993</td>\n",
       "    </tr>\n",
       "  </tbody>\n",
       "</table>\n",
       "<p>125 rows × 1 columns</p>\n",
       "</div>"
      ],
      "text/plain": [
       "                 Close\n",
       "2023-10-06  426.480408\n",
       "2023-10-09  429.210815\n",
       "2023-10-10  431.444794\n",
       "2023-10-11  433.212128\n",
       "2023-10-12  430.571075\n",
       "...                ...\n",
       "2024-04-01  522.159973\n",
       "2024-04-02  518.840027\n",
       "2024-04-03  519.409973\n",
       "2024-04-04  513.070007\n",
       "2024-04-05  518.429993\n",
       "\n",
       "[125 rows x 1 columns]"
      ]
     },
     "execution_count": 11,
     "metadata": {},
     "output_type": "execute_result"
    }
   ],
   "source": [
    "#Extracting Spy closing prices into dataframe\n",
    "\n",
    "spy = yf.Ticker(\"SPY\")\n",
    "spy_hist = spy.history(period=\"6mo\")\n",
    "spy_hist = spy_hist[['Close']]\n",
    "spy_hist.index = spy_hist.index.date\n",
    "spy_hist"
   ]
  },
  {
   "cell_type": "code",
   "execution_count": 12,
   "metadata": {},
   "outputs": [
    {
     "data": {
      "text/html": [
       "<div>\n",
       "<style scoped>\n",
       "    .dataframe tbody tr th:only-of-type {\n",
       "        vertical-align: middle;\n",
       "    }\n",
       "\n",
       "    .dataframe tbody tr th {\n",
       "        vertical-align: top;\n",
       "    }\n",
       "\n",
       "    .dataframe thead th {\n",
       "        text-align: right;\n",
       "    }\n",
       "</style>\n",
       "<table border=\"1\" class=\"dataframe\">\n",
       "  <thead>\n",
       "    <tr style=\"text-align: right;\">\n",
       "      <th></th>\n",
       "      <th>USD</th>\n",
       "      <th>JPY</th>\n",
       "      <th>BGN</th>\n",
       "      <th>CZK</th>\n",
       "      <th>DKK</th>\n",
       "      <th>GBP</th>\n",
       "      <th>CHF</th>\n",
       "      <th>Close</th>\n",
       "    </tr>\n",
       "  </thead>\n",
       "  <tbody>\n",
       "    <tr>\n",
       "      <th>2024-04-05</th>\n",
       "      <td>1.0841</td>\n",
       "      <td>164.10</td>\n",
       "      <td>1.9558</td>\n",
       "      <td>25.286</td>\n",
       "      <td>7.4590</td>\n",
       "      <td>0.85773</td>\n",
       "      <td>0.9793</td>\n",
       "      <td>518.429993</td>\n",
       "    </tr>\n",
       "    <tr>\n",
       "      <th>2024-04-04</th>\n",
       "      <td>1.0852</td>\n",
       "      <td>164.69</td>\n",
       "      <td>1.9558</td>\n",
       "      <td>25.322</td>\n",
       "      <td>7.4589</td>\n",
       "      <td>0.85788</td>\n",
       "      <td>0.9846</td>\n",
       "      <td>513.070007</td>\n",
       "    </tr>\n",
       "    <tr>\n",
       "      <th>2024-04-03</th>\n",
       "      <td>1.0783</td>\n",
       "      <td>163.66</td>\n",
       "      <td>1.9558</td>\n",
       "      <td>25.352</td>\n",
       "      <td>7.4589</td>\n",
       "      <td>0.85713</td>\n",
       "      <td>0.9792</td>\n",
       "      <td>519.409973</td>\n",
       "    </tr>\n",
       "    <tr>\n",
       "      <th>2024-04-02</th>\n",
       "      <td>1.0749</td>\n",
       "      <td>163.01</td>\n",
       "      <td>1.9558</td>\n",
       "      <td>25.361</td>\n",
       "      <td>7.4582</td>\n",
       "      <td>0.85510</td>\n",
       "      <td>0.9765</td>\n",
       "      <td>518.840027</td>\n",
       "    </tr>\n",
       "    <tr>\n",
       "      <th>2024-03-28</th>\n",
       "      <td>1.0811</td>\n",
       "      <td>163.45</td>\n",
       "      <td>1.9558</td>\n",
       "      <td>25.305</td>\n",
       "      <td>7.4580</td>\n",
       "      <td>0.85510</td>\n",
       "      <td>0.9766</td>\n",
       "      <td>523.070007</td>\n",
       "    </tr>\n",
       "    <tr>\n",
       "      <th>...</th>\n",
       "      <td>...</td>\n",
       "      <td>...</td>\n",
       "      <td>...</td>\n",
       "      <td>...</td>\n",
       "      <td>...</td>\n",
       "      <td>...</td>\n",
       "      <td>...</td>\n",
       "      <td>...</td>\n",
       "    </tr>\n",
       "    <tr>\n",
       "      <th>2024-01-12</th>\n",
       "      <td>1.0942</td>\n",
       "      <td>159.17</td>\n",
       "      <td>1.9558</td>\n",
       "      <td>24.689</td>\n",
       "      <td>7.4565</td>\n",
       "      <td>0.85950</td>\n",
       "      <td>0.9350</td>\n",
       "      <td>475.203522</td>\n",
       "    </tr>\n",
       "    <tr>\n",
       "      <th>2024-01-11</th>\n",
       "      <td>1.0987</td>\n",
       "      <td>159.71</td>\n",
       "      <td>1.9558</td>\n",
       "      <td>24.659</td>\n",
       "      <td>7.4568</td>\n",
       "      <td>0.86145</td>\n",
       "      <td>0.9338</td>\n",
       "      <td>474.874542</td>\n",
       "    </tr>\n",
       "    <tr>\n",
       "      <th>2024-01-10</th>\n",
       "      <td>1.0946</td>\n",
       "      <td>159.03</td>\n",
       "      <td>1.9558</td>\n",
       "      <td>24.562</td>\n",
       "      <td>7.4582</td>\n",
       "      <td>0.86023</td>\n",
       "      <td>0.9336</td>\n",
       "      <td>475.083893</td>\n",
       "    </tr>\n",
       "    <tr>\n",
       "      <th>2024-01-09</th>\n",
       "      <td>1.0940</td>\n",
       "      <td>157.63</td>\n",
       "      <td>1.9558</td>\n",
       "      <td>24.594</td>\n",
       "      <td>7.4577</td>\n",
       "      <td>0.85938</td>\n",
       "      <td>0.9313</td>\n",
       "      <td>472.412201</td>\n",
       "    </tr>\n",
       "    <tr>\n",
       "      <th>2024-01-08</th>\n",
       "      <td>1.0946</td>\n",
       "      <td>158.19</td>\n",
       "      <td>1.9558</td>\n",
       "      <td>24.488</td>\n",
       "      <td>7.4615</td>\n",
       "      <td>0.86150</td>\n",
       "      <td>0.9308</td>\n",
       "      <td>473.129974</td>\n",
       "    </tr>\n",
       "  </tbody>\n",
       "</table>\n",
       "<p>61 rows × 8 columns</p>\n",
       "</div>"
      ],
      "text/plain": [
       "               USD     JPY     BGN     CZK     DKK      GBP     CHF  \\\n",
       "2024-04-05  1.0841  164.10  1.9558  25.286  7.4590  0.85773  0.9793   \n",
       "2024-04-04  1.0852  164.69  1.9558  25.322  7.4589  0.85788  0.9846   \n",
       "2024-04-03  1.0783  163.66  1.9558  25.352  7.4589  0.85713  0.9792   \n",
       "2024-04-02  1.0749  163.01  1.9558  25.361  7.4582  0.85510  0.9765   \n",
       "2024-03-28  1.0811  163.45  1.9558  25.305  7.4580  0.85510  0.9766   \n",
       "...            ...     ...     ...     ...     ...      ...     ...   \n",
       "2024-01-12  1.0942  159.17  1.9558  24.689  7.4565  0.85950  0.9350   \n",
       "2024-01-11  1.0987  159.71  1.9558  24.659  7.4568  0.86145  0.9338   \n",
       "2024-01-10  1.0946  159.03  1.9558  24.562  7.4582  0.86023  0.9336   \n",
       "2024-01-09  1.0940  157.63  1.9558  24.594  7.4577  0.85938  0.9313   \n",
       "2024-01-08  1.0946  158.19  1.9558  24.488  7.4615  0.86150  0.9308   \n",
       "\n",
       "                 Close  \n",
       "2024-04-05  518.429993  \n",
       "2024-04-04  513.070007  \n",
       "2024-04-03  519.409973  \n",
       "2024-04-02  518.840027  \n",
       "2024-03-28  523.070007  \n",
       "...                ...  \n",
       "2024-01-12  475.203522  \n",
       "2024-01-11  474.874542  \n",
       "2024-01-10  475.083893  \n",
       "2024-01-09  472.412201  \n",
       "2024-01-08  473.129974  \n",
       "\n",
       "[61 rows x 8 columns]"
      ]
     },
     "execution_count": 12,
     "metadata": {},
     "output_type": "execute_result"
    }
   ],
   "source": [
    "#Performing Data Augmentation and Merging\n",
    "df_augmented = pd.merge(df, spy_hist, left_index=True, right_index=True, how='left')\n",
    "df_augmented = df_augmented.dropna()\n",
    "df_augmented"
   ]
  },
  {
   "cell_type": "code",
   "execution_count": 13,
   "metadata": {},
   "outputs": [
    {
     "data": {
      "text/plain": [
       "<Axes: >"
      ]
     },
     "execution_count": 13,
     "metadata": {},
     "output_type": "execute_result"
    },
    {
     "data": {
      "image/png": "[encoded data removed]",
      "text/plain": [
       "<Figure size 432x288 with 2 Axes>"
      ]
     },
     "metadata": {
      "needs_background": "light"
     },
     "output_type": "display_data"
    }
   ],
   "source": [
    "corr = df_augmented.corr()\n",
    "sns.heatmap(corr)\n",
    "\n"
   ]
  },
  {
   "cell_type": "markdown",
   "metadata": {},
   "source": [
    "## Principal Component Analysis"
   ]
  },
  {
   "cell_type": "code",
   "execution_count": 14,
   "metadata": {},
   "outputs": [],
   "source": [
    "# Perform PCA on the exchange rate data\n",
    "pca, pc_df = perform_pca(df_augmented, n_components=None)"
   ]
  },
  {
   "cell_type": "markdown",
   "metadata": {},
   "source": [
    "## PCA Biplot"
   ]
  },
  {
   "cell_type": "code",
   "execution_count": 15,
   "metadata": {},
   "outputs": [
    {
     "data": {
      "image/png": "[encoded data removed]",
      "text/plain": [
       "<Figure size 432x288 with 1 Axes>"
      ]
     },
     "metadata": {
      "needs_background": "light"
     },
     "output_type": "display_data"
    }
   ],
   "source": [
    "# Assuming `pc_df` is the DataFrame of principal components\n",
    "# and `pca` is your PCA object after fitting the data\n",
    "biplot(pc_df.values[:, :2], np.transpose(pca.components_[0:2, :]), labels=df.columns.values[:pca.components_.shape[1]])\n",
    "plt.show()\n"
   ]
  },
  {
   "cell_type": "markdown",
   "metadata": {},
   "source": [
    "## Scree Plot"
   ]
  },
  {
   "cell_type": "code",
   "execution_count": 16,
   "metadata": {},
   "outputs": [
    {
     "data": {
      "image/png": "[encoded data removed]",
      "text/plain": [
       "<Figure size 1008x432 with 2 Axes>"
      ]
     },
     "metadata": {
      "needs_background": "light"
     },
     "output_type": "display_data"
    }
   ],
   "source": [
    "# Create a scree plot to visualize the explained variance\n",
    "create_scree_plot(pca)"
   ]
  },
  {
   "cell_type": "markdown",
   "metadata": {},
   "source": [
    "## Interactive plots using Plotly"
   ]
  },
  {
   "cell_type": "code",
   "execution_count": 17,
   "metadata": {},
   "outputs": [],
   "source": [
    "import plotly.express as px"
   ]
  },
  {
   "cell_type": "code",
   "execution_count": 18,
   "metadata": {},
   "outputs": [
    {
     "data": {
      "text/html": [
       "<div>\n",
       "<style scoped>\n",
       "    .dataframe tbody tr th:only-of-type {\n",
       "        vertical-align: middle;\n",
       "    }\n",
       "\n",
       "    .dataframe tbody tr th {\n",
       "        vertical-align: top;\n",
       "    }\n",
       "\n",
       "    .dataframe thead th {\n",
       "        text-align: right;\n",
       "    }\n",
       "</style>\n",
       "<table border=\"1\" class=\"dataframe\">\n",
       "  <thead>\n",
       "    <tr style=\"text-align: right;\">\n",
       "      <th></th>\n",
       "      <th>USD</th>\n",
       "      <th>JPY</th>\n",
       "      <th>BGN</th>\n",
       "      <th>CZK</th>\n",
       "      <th>DKK</th>\n",
       "      <th>GBP</th>\n",
       "      <th>CHF</th>\n",
       "    </tr>\n",
       "  </thead>\n",
       "  <tbody>\n",
       "    <tr>\n",
       "      <th>2024-04-05</th>\n",
       "      <td>1.0841</td>\n",
       "      <td>164.10</td>\n",
       "      <td>1.9558</td>\n",
       "      <td>25.286</td>\n",
       "      <td>7.4590</td>\n",
       "      <td>0.85773</td>\n",
       "      <td>0.9793</td>\n",
       "    </tr>\n",
       "    <tr>\n",
       "      <th>2024-04-04</th>\n",
       "      <td>1.0852</td>\n",
       "      <td>164.69</td>\n",
       "      <td>1.9558</td>\n",
       "      <td>25.322</td>\n",
       "      <td>7.4589</td>\n",
       "      <td>0.85788</td>\n",
       "      <td>0.9846</td>\n",
       "    </tr>\n",
       "    <tr>\n",
       "      <th>2024-04-03</th>\n",
       "      <td>1.0783</td>\n",
       "      <td>163.66</td>\n",
       "      <td>1.9558</td>\n",
       "      <td>25.352</td>\n",
       "      <td>7.4589</td>\n",
       "      <td>0.85713</td>\n",
       "      <td>0.9792</td>\n",
       "    </tr>\n",
       "    <tr>\n",
       "      <th>2024-04-02</th>\n",
       "      <td>1.0749</td>\n",
       "      <td>163.01</td>\n",
       "      <td>1.9558</td>\n",
       "      <td>25.361</td>\n",
       "      <td>7.4582</td>\n",
       "      <td>0.85510</td>\n",
       "      <td>0.9765</td>\n",
       "    </tr>\n",
       "    <tr>\n",
       "      <th>2024-03-28</th>\n",
       "      <td>1.0811</td>\n",
       "      <td>163.45</td>\n",
       "      <td>1.9558</td>\n",
       "      <td>25.305</td>\n",
       "      <td>7.4580</td>\n",
       "      <td>0.85510</td>\n",
       "      <td>0.9766</td>\n",
       "    </tr>\n",
       "    <tr>\n",
       "      <th>...</th>\n",
       "      <td>...</td>\n",
       "      <td>...</td>\n",
       "      <td>...</td>\n",
       "      <td>...</td>\n",
       "      <td>...</td>\n",
       "      <td>...</td>\n",
       "      <td>...</td>\n",
       "    </tr>\n",
       "    <tr>\n",
       "      <th>2024-01-12</th>\n",
       "      <td>1.0942</td>\n",
       "      <td>159.17</td>\n",
       "      <td>1.9558</td>\n",
       "      <td>24.689</td>\n",
       "      <td>7.4565</td>\n",
       "      <td>0.85950</td>\n",
       "      <td>0.9350</td>\n",
       "    </tr>\n",
       "    <tr>\n",
       "      <th>2024-01-11</th>\n",
       "      <td>1.0987</td>\n",
       "      <td>159.71</td>\n",
       "      <td>1.9558</td>\n",
       "      <td>24.659</td>\n",
       "      <td>7.4568</td>\n",
       "      <td>0.86145</td>\n",
       "      <td>0.9338</td>\n",
       "    </tr>\n",
       "    <tr>\n",
       "      <th>2024-01-10</th>\n",
       "      <td>1.0946</td>\n",
       "      <td>159.03</td>\n",
       "      <td>1.9558</td>\n",
       "      <td>24.562</td>\n",
       "      <td>7.4582</td>\n",
       "      <td>0.86023</td>\n",
       "      <td>0.9336</td>\n",
       "    </tr>\n",
       "    <tr>\n",
       "      <th>2024-01-09</th>\n",
       "      <td>1.0940</td>\n",
       "      <td>157.63</td>\n",
       "      <td>1.9558</td>\n",
       "      <td>24.594</td>\n",
       "      <td>7.4577</td>\n",
       "      <td>0.85938</td>\n",
       "      <td>0.9313</td>\n",
       "    </tr>\n",
       "    <tr>\n",
       "      <th>2024-01-08</th>\n",
       "      <td>1.0946</td>\n",
       "      <td>158.19</td>\n",
       "      <td>1.9558</td>\n",
       "      <td>24.488</td>\n",
       "      <td>7.4615</td>\n",
       "      <td>0.86150</td>\n",
       "      <td>0.9308</td>\n",
       "    </tr>\n",
       "  </tbody>\n",
       "</table>\n",
       "<p>63 rows × 7 columns</p>\n",
       "</div>"
      ],
      "text/plain": [
       "               USD     JPY     BGN     CZK     DKK      GBP     CHF\n",
       "2024-04-05  1.0841  164.10  1.9558  25.286  7.4590  0.85773  0.9793\n",
       "2024-04-04  1.0852  164.69  1.9558  25.322  7.4589  0.85788  0.9846\n",
       "2024-04-03  1.0783  163.66  1.9558  25.352  7.4589  0.85713  0.9792\n",
       "2024-04-02  1.0749  163.01  1.9558  25.361  7.4582  0.85510  0.9765\n",
       "2024-03-28  1.0811  163.45  1.9558  25.305  7.4580  0.85510  0.9766\n",
       "...            ...     ...     ...     ...     ...      ...     ...\n",
       "2024-01-12  1.0942  159.17  1.9558  24.689  7.4565  0.85950  0.9350\n",
       "2024-01-11  1.0987  159.71  1.9558  24.659  7.4568  0.86145  0.9338\n",
       "2024-01-10  1.0946  159.03  1.9558  24.562  7.4582  0.86023  0.9336\n",
       "2024-01-09  1.0940  157.63  1.9558  24.594  7.4577  0.85938  0.9313\n",
       "2024-01-08  1.0946  158.19  1.9558  24.488  7.4615  0.86150  0.9308\n",
       "\n",
       "[63 rows x 7 columns]"
      ]
     },
     "execution_count": 18,
     "metadata": {},
     "output_type": "execute_result"
    }
   ],
   "source": [
    "df"
   ]
  },
  {
   "cell_type": "code",
   "execution_count": 24,
   "metadata": {},
   "outputs": [],
   "source": [
    "import plotly.express as px\n",
    "import pandas as pd\n",
    "\n",
    "df.reset_index(inplace=True)\n",
    "df.rename(columns={'index': 'Date'}, inplace=True)\n",
    "\n",
    "# First, filter out only the desired currencies.\n",
    "filtered_df = df[['Date', 'USD', 'BGN', 'GBP', 'CHF']]\n",
    "\n",
    "# Melt the filtered DataFrame to format it for Plotly Express.\n",
    "df_melted = filtered_df.melt(id_vars='Date', var_name='Currency', value_name='Value')\n",
    "# Ensure the dates are sorted"
   ]
  },
  {
   "cell_type": "code",
   "execution_count": 33,
   "metadata": {},
   "outputs": [],
   "source": [
    "# Ensure the dates are sorted\n",
    "df_melted.sort_values('Date', inplace=True)"
   ]
  },
  {
   "cell_type": "code",
   "execution_count": 25,
   "metadata": {},
   "outputs": [
    {
     "data": {
      "text/html": [
       "<div>\n",
       "<style scoped>\n",
       "    .dataframe tbody tr th:only-of-type {\n",
       "        vertical-align: middle;\n",
       "    }\n",
       "\n",
       "    .dataframe tbody tr th {\n",
       "        vertical-align: top;\n",
       "    }\n",
       "\n",
       "    .dataframe thead th {\n",
       "        text-align: right;\n",
       "    }\n",
       "</style>\n",
       "<table border=\"1\" class=\"dataframe\">\n",
       "  <thead>\n",
       "    <tr style=\"text-align: right;\">\n",
       "      <th></th>\n",
       "      <th>Date</th>\n",
       "      <th>USD</th>\n",
       "      <th>BGN</th>\n",
       "      <th>GBP</th>\n",
       "      <th>CHF</th>\n",
       "    </tr>\n",
       "  </thead>\n",
       "  <tbody>\n",
       "    <tr>\n",
       "      <th>0</th>\n",
       "      <td>2024-04-05</td>\n",
       "      <td>1.0841</td>\n",
       "      <td>1.9558</td>\n",
       "      <td>0.85773</td>\n",
       "      <td>0.9793</td>\n",
       "    </tr>\n",
       "    <tr>\n",
       "      <th>1</th>\n",
       "      <td>2024-04-04</td>\n",
       "      <td>1.0852</td>\n",
       "      <td>1.9558</td>\n",
       "      <td>0.85788</td>\n",
       "      <td>0.9846</td>\n",
       "    </tr>\n",
       "    <tr>\n",
       "      <th>2</th>\n",
       "      <td>2024-04-03</td>\n",
       "      <td>1.0783</td>\n",
       "      <td>1.9558</td>\n",
       "      <td>0.85713</td>\n",
       "      <td>0.9792</td>\n",
       "    </tr>\n",
       "    <tr>\n",
       "      <th>3</th>\n",
       "      <td>2024-04-02</td>\n",
       "      <td>1.0749</td>\n",
       "      <td>1.9558</td>\n",
       "      <td>0.85510</td>\n",
       "      <td>0.9765</td>\n",
       "    </tr>\n",
       "    <tr>\n",
       "      <th>4</th>\n",
       "      <td>2024-03-28</td>\n",
       "      <td>1.0811</td>\n",
       "      <td>1.9558</td>\n",
       "      <td>0.85510</td>\n",
       "      <td>0.9766</td>\n",
       "    </tr>\n",
       "    <tr>\n",
       "      <th>...</th>\n",
       "      <td>...</td>\n",
       "      <td>...</td>\n",
       "      <td>...</td>\n",
       "      <td>...</td>\n",
       "      <td>...</td>\n",
       "    </tr>\n",
       "    <tr>\n",
       "      <th>58</th>\n",
       "      <td>2024-01-12</td>\n",
       "      <td>1.0942</td>\n",
       "      <td>1.9558</td>\n",
       "      <td>0.85950</td>\n",
       "      <td>0.9350</td>\n",
       "    </tr>\n",
       "    <tr>\n",
       "      <th>59</th>\n",
       "      <td>2024-01-11</td>\n",
       "      <td>1.0987</td>\n",
       "      <td>1.9558</td>\n",
       "      <td>0.86145</td>\n",
       "      <td>0.9338</td>\n",
       "    </tr>\n",
       "    <tr>\n",
       "      <th>60</th>\n",
       "      <td>2024-01-10</td>\n",
       "      <td>1.0946</td>\n",
       "      <td>1.9558</td>\n",
       "      <td>0.86023</td>\n",
       "      <td>0.9336</td>\n",
       "    </tr>\n",
       "    <tr>\n",
       "      <th>61</th>\n",
       "      <td>2024-01-09</td>\n",
       "      <td>1.0940</td>\n",
       "      <td>1.9558</td>\n",
       "      <td>0.85938</td>\n",
       "      <td>0.9313</td>\n",
       "    </tr>\n",
       "    <tr>\n",
       "      <th>62</th>\n",
       "      <td>2024-01-08</td>\n",
       "      <td>1.0946</td>\n",
       "      <td>1.9558</td>\n",
       "      <td>0.86150</td>\n",
       "      <td>0.9308</td>\n",
       "    </tr>\n",
       "  </tbody>\n",
       "</table>\n",
       "<p>63 rows × 5 columns</p>\n",
       "</div>"
      ],
      "text/plain": [
       "         Date     USD     BGN      GBP     CHF\n",
       "0  2024-04-05  1.0841  1.9558  0.85773  0.9793\n",
       "1  2024-04-04  1.0852  1.9558  0.85788  0.9846\n",
       "2  2024-04-03  1.0783  1.9558  0.85713  0.9792\n",
       "3  2024-04-02  1.0749  1.9558  0.85510  0.9765\n",
       "4  2024-03-28  1.0811  1.9558  0.85510  0.9766\n",
       "..        ...     ...     ...      ...     ...\n",
       "58 2024-01-12  1.0942  1.9558  0.85950  0.9350\n",
       "59 2024-01-11  1.0987  1.9558  0.86145  0.9338\n",
       "60 2024-01-10  1.0946  1.9558  0.86023  0.9336\n",
       "61 2024-01-09  1.0940  1.9558  0.85938  0.9313\n",
       "62 2024-01-08  1.0946  1.9558  0.86150  0.9308\n",
       "\n",
       "[63 rows x 5 columns]"
      ]
     },
     "execution_count": 25,
     "metadata": {},
     "output_type": "execute_result"
    }
   ],
   "source": [
    "filtered_df"
   ]
  },
  {
   "cell_type": "code",
   "execution_count": 34,
   "metadata": {},
   "outputs": [
    {
     "data": {
      "text/html": [
       "<div>\n",
       "<style scoped>\n",
       "    .dataframe tbody tr th:only-of-type {\n",
       "        vertical-align: middle;\n",
       "    }\n",
       "\n",
       "    .dataframe tbody tr th {\n",
       "        vertical-align: top;\n",
       "    }\n",
       "\n",
       "    .dataframe thead th {\n",
       "        text-align: right;\n",
       "    }\n",
       "</style>\n",
       "<table border=\"1\" class=\"dataframe\">\n",
       "  <thead>\n",
       "    <tr style=\"text-align: right;\">\n",
       "      <th></th>\n",
       "      <th>Date</th>\n",
       "      <th>Currency</th>\n",
       "      <th>Value</th>\n",
       "    </tr>\n",
       "  </thead>\n",
       "  <tbody>\n",
       "    <tr>\n",
       "      <th>125</th>\n",
       "      <td>2024-01-08</td>\n",
       "      <td>BGN</td>\n",
       "      <td>1.95580</td>\n",
       "    </tr>\n",
       "    <tr>\n",
       "      <th>188</th>\n",
       "      <td>2024-01-08</td>\n",
       "      <td>GBP</td>\n",
       "      <td>0.86150</td>\n",
       "    </tr>\n",
       "    <tr>\n",
       "      <th>62</th>\n",
       "      <td>2024-01-08</td>\n",
       "      <td>USD</td>\n",
       "      <td>1.09460</td>\n",
       "    </tr>\n",
       "    <tr>\n",
       "      <th>251</th>\n",
       "      <td>2024-01-08</td>\n",
       "      <td>CHF</td>\n",
       "      <td>0.93080</td>\n",
       "    </tr>\n",
       "    <tr>\n",
       "      <th>61</th>\n",
       "      <td>2024-01-09</td>\n",
       "      <td>USD</td>\n",
       "      <td>1.09400</td>\n",
       "    </tr>\n",
       "    <tr>\n",
       "      <th>...</th>\n",
       "      <td>...</td>\n",
       "      <td>...</td>\n",
       "      <td>...</td>\n",
       "    </tr>\n",
       "    <tr>\n",
       "      <th>190</th>\n",
       "      <td>2024-04-04</td>\n",
       "      <td>CHF</td>\n",
       "      <td>0.98460</td>\n",
       "    </tr>\n",
       "    <tr>\n",
       "      <th>189</th>\n",
       "      <td>2024-04-05</td>\n",
       "      <td>CHF</td>\n",
       "      <td>0.97930</td>\n",
       "    </tr>\n",
       "    <tr>\n",
       "      <th>126</th>\n",
       "      <td>2024-04-05</td>\n",
       "      <td>GBP</td>\n",
       "      <td>0.85773</td>\n",
       "    </tr>\n",
       "    <tr>\n",
       "      <th>63</th>\n",
       "      <td>2024-04-05</td>\n",
       "      <td>BGN</td>\n",
       "      <td>1.95580</td>\n",
       "    </tr>\n",
       "    <tr>\n",
       "      <th>0</th>\n",
       "      <td>2024-04-05</td>\n",
       "      <td>USD</td>\n",
       "      <td>1.08410</td>\n",
       "    </tr>\n",
       "  </tbody>\n",
       "</table>\n",
       "<p>252 rows × 3 columns</p>\n",
       "</div>"
      ],
      "text/plain": [
       "          Date Currency    Value\n",
       "125 2024-01-08      BGN  1.95580\n",
       "188 2024-01-08      GBP  0.86150\n",
       "62  2024-01-08      USD  1.09460\n",
       "251 2024-01-08      CHF  0.93080\n",
       "61  2024-01-09      USD  1.09400\n",
       "..         ...      ...      ...\n",
       "190 2024-04-04      CHF  0.98460\n",
       "189 2024-04-05      CHF  0.97930\n",
       "126 2024-04-05      GBP  0.85773\n",
       "63  2024-04-05      BGN  1.95580\n",
       "0   2024-04-05      USD  1.08410\n",
       "\n",
       "[252 rows x 3 columns]"
      ]
     },
     "execution_count": 34,
     "metadata": {},
     "output_type": "execute_result"
    }
   ],
   "source": [
    "df_melted"
   ]
  },
  {
   "cell_type": "code",
   "execution_count": 36,
   "metadata": {},
   "outputs": [],
   "source": [
    "import plotly.graph_objs as go"
   ]
  },
  {
   "cell_type": "code",
   "execution_count": 46,
   "metadata": {},
   "outputs": [
    {
     "data": {
      "application/vnd.plotly.v1+json": {
       "config": {
        "plotlyServerURL": "https://plot.ly"
       },
       "data": [
        {
         "hoverinfo": "x+y",
         "line": {
          "color": "blue"
         },
         "marker": {
          "line": {
           "width": 2
          },
          "opacity": 0.8,
          "size": 10
         },
         "mode": "lines+markers",
         "name": "USD",
         "type": "scatter",
         "x": [
          "2024-04-05T00:00:00",
          "2024-04-04T00:00:00",
          "2024-04-03T00:00:00",
          "2024-04-02T00:00:00",
          "2024-03-28T00:00:00",
          "2024-03-27T00:00:00",
          "2024-03-26T00:00:00",
          "2024-03-25T00:00:00",
          "2024-03-22T00:00:00",
          "2024-03-21T00:00:00",
          "2024-03-20T00:00:00",
          "2024-03-19T00:00:00",
          "2024-03-18T00:00:00",
          "2024-03-15T00:00:00",
          "2024-03-14T00:00:00",
          "2024-03-13T00:00:00",
          "2024-03-12T00:00:00",
          "2024-03-11T00:00:00",
          "2024-03-08T00:00:00",
          "2024-03-07T00:00:00",
          "2024-03-06T00:00:00",
          "2024-03-05T00:00:00",
          "2024-03-04T00:00:00",
          "2024-03-01T00:00:00",
          "2024-02-29T00:00:00",
          "2024-02-28T00:00:00",
          "2024-02-27T00:00:00",
          "2024-02-26T00:00:00",
          "2024-02-23T00:00:00",
          "2024-02-22T00:00:00",
          "2024-02-21T00:00:00",
          "2024-02-20T00:00:00",
          "2024-02-19T00:00:00",
          "2024-02-16T00:00:00",
          "2024-02-15T00:00:00",
          "2024-02-14T00:00:00",
          "2024-02-13T00:00:00",
          "2024-02-12T00:00:00",
          "2024-02-09T00:00:00",
          "2024-02-08T00:00:00",
          "2024-02-07T00:00:00",
          "2024-02-06T00:00:00",
          "2024-02-05T00:00:00",
          "2024-02-02T00:00:00",
          "2024-02-01T00:00:00",
          "2024-01-31T00:00:00",
          "2024-01-30T00:00:00",
          "2024-01-29T00:00:00",
          "2024-01-26T00:00:00",
          "2024-01-25T00:00:00",
          "2024-01-24T00:00:00",
          "2024-01-23T00:00:00",
          "2024-01-22T00:00:00",
          "2024-01-19T00:00:00",
          "2024-01-18T00:00:00",
          "2024-01-17T00:00:00",
          "2024-01-16T00:00:00",
          "2024-01-15T00:00:00",
          "2024-01-12T00:00:00",
          "2024-01-11T00:00:00",
          "2024-01-10T00:00:00",
          "2024-01-09T00:00:00",
          "2024-01-08T00:00:00"
         ],
         "y": [
          1.0841,
          1.0852,
          1.0783,
          1.0749,
          1.0811,
          1.0816,
          1.0855,
          1.0835,
          1.0823,
          1.0907,
          1.0844,
          1.0854,
          1.0892,
          1.0892,
          1.0925,
          1.0939,
          1.0916,
          1.0926,
          1.0932,
          1.0895,
          1.0874,
          1.0849,
          1.0846,
          1.0813,
          1.0826,
          1.0808,
          1.0856,
          1.0852,
          1.0834,
          1.0844,
          1.0809,
          1.0802,
          1.0776,
          1.0768,
          1.0743,
          1.0713,
          1.0793,
          1.0773,
          1.0772,
          1.0758,
          1.0776,
          1.0743,
          1.0746,
          1.0883,
          1.0814,
          1.0837,
          1.0846,
          1.0823,
          1.0871,
          1.0893,
          1.0905,
          1.0872,
          1.089,
          1.0887,
          1.0875,
          1.0877,
          1.0882,
          1.0945,
          1.0942,
          1.0987,
          1.0946,
          1.094,
          1.0946
         ]
        },
        {
         "hoverinfo": "x+y",
         "line": {
          "color": "green"
         },
         "marker": {
          "line": {
           "width": 2
          },
          "opacity": 0.8,
          "size": 10
         },
         "mode": "lines+markers",
         "name": "BGN",
         "type": "scatter",
         "x": [
          "2024-04-05T00:00:00",
          "2024-04-04T00:00:00",
          "2024-04-03T00:00:00",
          "2024-04-02T00:00:00",
          "2024-03-28T00:00:00",
          "2024-03-27T00:00:00",
          "2024-03-26T00:00:00",
          "2024-03-25T00:00:00",
          "2024-03-22T00:00:00",
          "2024-03-21T00:00:00",
          "2024-03-20T00:00:00",
          "2024-03-19T00:00:00",
          "2024-03-18T00:00:00",
          "2024-03-15T00:00:00",
          "2024-03-14T00:00:00",
          "2024-03-13T00:00:00",
          "2024-03-12T00:00:00",
          "2024-03-11T00:00:00",
          "2024-03-08T00:00:00",
          "2024-03-07T00:00:00",
          "2024-03-06T00:00:00",
          "2024-03-05T00:00:00",
          "2024-03-04T00:00:00",
          "2024-03-01T00:00:00",
          "2024-02-29T00:00:00",
          "2024-02-28T00:00:00",
          "2024-02-27T00:00:00",
          "2024-02-26T00:00:00",
          "2024-02-23T00:00:00",
          "2024-02-22T00:00:00",
          "2024-02-21T00:00:00",
          "2024-02-20T00:00:00",
          "2024-02-19T00:00:00",
          "2024-02-16T00:00:00",
          "2024-02-15T00:00:00",
          "2024-02-14T00:00:00",
          "2024-02-13T00:00:00",
          "2024-02-12T00:00:00",
          "2024-02-09T00:00:00",
          "2024-02-08T00:00:00",
          "2024-02-07T00:00:00",
          "2024-02-06T00:00:00",
          "2024-02-05T00:00:00",
          "2024-02-02T00:00:00",
          "2024-02-01T00:00:00",
          "2024-01-31T00:00:00",
          "2024-01-30T00:00:00",
          "2024-01-29T00:00:00",
          "2024-01-26T00:00:00",
          "2024-01-25T00:00:00",
          "2024-01-24T00:00:00",
          "2024-01-23T00:00:00",
          "2024-01-22T00:00:00",
          "2024-01-19T00:00:00",
          "2024-01-18T00:00:00",
          "2024-01-17T00:00:00",
          "2024-01-16T00:00:00",
          "2024-01-15T00:00:00",
          "2024-01-12T00:00:00",
          "2024-01-11T00:00:00",
          "2024-01-10T00:00:00",
          "2024-01-09T00:00:00",
          "2024-01-08T00:00:00"
         ],
         "y": [
          1.9558,
          1.9558,
          1.9558,
          1.9558,
          1.9558,
          1.9558,
          1.9558,
          1.9558,
          1.9558,
          1.9558,
          1.9558,
          1.9558,
          1.9558,
          1.9558,
          1.9558,
          1.9558,
          1.9558,
          1.9558,
          1.9558,
          1.9558,
          1.9558,
          1.9558,
          1.9558,
          1.9558,
          1.9558,
          1.9558,
          1.9558,
          1.9558,
          1.9558,
          1.9558,
          1.9558,
          1.9558,
          1.9558,
          1.9558,
          1.9558,
          1.9558,
          1.9558,
          1.9558,
          1.9558,
          1.9558,
          1.9558,
          1.9558,
          1.9558,
          1.9558,
          1.9558,
          1.9558,
          1.9558,
          1.9558,
          1.9558,
          1.9558,
          1.9558,
          1.9558,
          1.9558,
          1.9558,
          1.9558,
          1.9558,
          1.9558,
          1.9558,
          1.9558,
          1.9558,
          1.9558,
          1.9558,
          1.9558
         ]
        },
        {
         "hoverinfo": "x+y",
         "line": {
          "color": "red"
         },
         "marker": {
          "line": {
           "width": 2
          },
          "opacity": 0.8,
          "size": 10
         },
         "mode": "lines+markers",
         "name": "GBP",
         "type": "scatter",
         "x": [
          "2024-04-05T00:00:00",
          "2024-04-04T00:00:00",
          "2024-04-03T00:00:00",
          "2024-04-02T00:00:00",
          "2024-03-28T00:00:00",
          "2024-03-27T00:00:00",
          "2024-03-26T00:00:00",
          "2024-03-25T00:00:00",
          "2024-03-22T00:00:00",
          "2024-03-21T00:00:00",
          "2024-03-20T00:00:00",
          "2024-03-19T00:00:00",
          "2024-03-18T00:00:00",
          "2024-03-15T00:00:00",
          "2024-03-14T00:00:00",
          "2024-03-13T00:00:00",
          "2024-03-12T00:00:00",
          "2024-03-11T00:00:00",
          "2024-03-08T00:00:00",
          "2024-03-07T00:00:00",
          "2024-03-06T00:00:00",
          "2024-03-05T00:00:00",
          "2024-03-04T00:00:00",
          "2024-03-01T00:00:00",
          "2024-02-29T00:00:00",
          "2024-02-28T00:00:00",
          "2024-02-27T00:00:00",
          "2024-02-26T00:00:00",
          "2024-02-23T00:00:00",
          "2024-02-22T00:00:00",
          "2024-02-21T00:00:00",
          "2024-02-20T00:00:00",
          "2024-02-19T00:00:00",
          "2024-02-16T00:00:00",
          "2024-02-15T00:00:00",
          "2024-02-14T00:00:00",
          "2024-02-13T00:00:00",
          "2024-02-12T00:00:00",
          "2024-02-09T00:00:00",
          "2024-02-08T00:00:00",
          "2024-02-07T00:00:00",
          "2024-02-06T00:00:00",
          "2024-02-05T00:00:00",
          "2024-02-02T00:00:00",
          "2024-02-01T00:00:00",
          "2024-01-31T00:00:00",
          "2024-01-30T00:00:00",
          "2024-01-29T00:00:00",
          "2024-01-26T00:00:00",
          "2024-01-25T00:00:00",
          "2024-01-24T00:00:00",
          "2024-01-23T00:00:00",
          "2024-01-22T00:00:00",
          "2024-01-19T00:00:00",
          "2024-01-18T00:00:00",
          "2024-01-17T00:00:00",
          "2024-01-16T00:00:00",
          "2024-01-15T00:00:00",
          "2024-01-12T00:00:00",
          "2024-01-11T00:00:00",
          "2024-01-10T00:00:00",
          "2024-01-09T00:00:00",
          "2024-01-08T00:00:00"
         ],
         "y": [
          0.85773,
          0.85788,
          0.85713,
          0.8551,
          0.8551,
          0.85768,
          0.85846,
          0.85698,
          0.85795,
          0.85678,
          0.85438,
          0.85445,
          0.85525,
          0.8541,
          0.8542,
          0.85451,
          0.85458,
          0.85208,
          0.85168,
          0.85445,
          0.85498,
          0.85543,
          0.85583,
          0.85588,
          0.85655,
          0.85548,
          0.8562,
          0.85495,
          0.8534,
          0.85625,
          0.85619,
          0.8566,
          0.85448,
          0.85605,
          0.85635,
          0.85258,
          0.85098,
          0.85391,
          0.8544,
          0.85378,
          0.85305,
          0.8546,
          0.85595,
          0.85263,
          0.85353,
          0.85435,
          0.85628,
          0.8525,
          0.85368,
          0.85538,
          0.85543,
          0.85493,
          0.85575,
          0.85825,
          0.85773,
          0.85818,
          0.86078,
          0.86075,
          0.8595,
          0.86145,
          0.86023,
          0.85938,
          0.8615
         ]
        },
        {
         "hoverinfo": "x+y",
         "line": {
          "color": "orange"
         },
         "marker": {
          "line": {
           "width": 2
          },
          "opacity": 0.8,
          "size": 10
         },
         "mode": "lines+markers",
         "name": "CHF",
         "type": "scatter",
         "x": [
          "2024-04-05T00:00:00",
          "2024-04-04T00:00:00",
          "2024-04-03T00:00:00",
          "2024-04-02T00:00:00",
          "2024-03-28T00:00:00",
          "2024-03-27T00:00:00",
          "2024-03-26T00:00:00",
          "2024-03-25T00:00:00",
          "2024-03-22T00:00:00",
          "2024-03-21T00:00:00",
          "2024-03-20T00:00:00",
          "2024-03-19T00:00:00",
          "2024-03-18T00:00:00",
          "2024-03-15T00:00:00",
          "2024-03-14T00:00:00",
          "2024-03-13T00:00:00",
          "2024-03-12T00:00:00",
          "2024-03-11T00:00:00",
          "2024-03-08T00:00:00",
          "2024-03-07T00:00:00",
          "2024-03-06T00:00:00",
          "2024-03-05T00:00:00",
          "2024-03-04T00:00:00",
          "2024-03-01T00:00:00",
          "2024-02-29T00:00:00",
          "2024-02-28T00:00:00",
          "2024-02-27T00:00:00",
          "2024-02-26T00:00:00",
          "2024-02-23T00:00:00",
          "2024-02-22T00:00:00",
          "2024-02-21T00:00:00",
          "2024-02-20T00:00:00",
          "2024-02-19T00:00:00",
          "2024-02-16T00:00:00",
          "2024-02-15T00:00:00",
          "2024-02-14T00:00:00",
          "2024-02-13T00:00:00",
          "2024-02-12T00:00:00",
          "2024-02-09T00:00:00",
          "2024-02-08T00:00:00",
          "2024-02-07T00:00:00",
          "2024-02-06T00:00:00",
          "2024-02-05T00:00:00",
          "2024-02-02T00:00:00",
          "2024-02-01T00:00:00",
          "2024-01-31T00:00:00",
          "2024-01-30T00:00:00",
          "2024-01-29T00:00:00",
          "2024-01-26T00:00:00",
          "2024-01-25T00:00:00",
          "2024-01-24T00:00:00",
          "2024-01-23T00:00:00",
          "2024-01-22T00:00:00",
          "2024-01-19T00:00:00",
          "2024-01-18T00:00:00",
          "2024-01-17T00:00:00",
          "2024-01-16T00:00:00",
          "2024-01-15T00:00:00",
          "2024-01-12T00:00:00",
          "2024-01-11T00:00:00",
          "2024-01-10T00:00:00",
          "2024-01-09T00:00:00",
          "2024-01-08T00:00:00"
         ],
         "y": [
          0.9793,
          0.9846,
          0.9792,
          0.9765,
          0.9766,
          0.9811,
          0.981,
          0.9724,
          0.9729,
          0.9766,
          0.9658,
          0.963,
          0.963,
          0.9613,
          0.9616,
          0.9599,
          0.9588,
          0.9594,
          0.9588,
          0.9577,
          0.9619,
          0.9609,
          0.9604,
          0.9582,
          0.9534,
          0.952,
          0.9544,
          0.9546,
          0.9522,
          0.9535,
          0.951,
          0.9526,
          0.9492,
          0.9491,
          0.9484,
          0.9493,
          0.9481,
          0.943,
          0.9432,
          0.9409,
          0.9393,
          0.9366,
          0.9347,
          0.9315,
          0.9336,
          0.9348,
          0.9365,
          0.9339,
          0.9396,
          0.942,
          0.9415,
          0.9446,
          0.9458,
          0.9459,
          0.9432,
          0.9406,
          0.9361,
          0.9351,
          0.935,
          0.9338,
          0.9336,
          0.9313,
          0.9308
         ]
        }
       ],
       "layout": {
        "height": 600,
        "hovermode": "x unified",
        "legend": {
         "x": 0.01,
         "xanchor": "left",
         "y": 0.99,
         "yanchor": "top"
        },
        "template": {
         "data": {
          "bar": [
           {
            "error_x": {
             "color": "#2a3f5f"
            },
            "error_y": {
             "color": "#2a3f5f"
            },
            "marker": {
             "line": {
              "color": "#E5ECF6",
              "width": 0.5
             },
             "pattern": {
              "fillmode": "overlay",
              "size": 10,
              "solidity": 0.2
             }
            },
            "type": "bar"
           }
          ],
          "barpolar": [
           {
            "marker": {
             "line": {
              "color": "#E5ECF6",
              "width": 0.5
             },
             "pattern": {
              "fillmode": "overlay",
              "size": 10,
              "solidity": 0.2
             }
            },
            "type": "barpolar"
           }
          ],
          "carpet": [
           {
            "aaxis": {
             "endlinecolor": "#2a3f5f",
             "gridcolor": "white",
             "linecolor": "white",
             "minorgridcolor": "white",
             "startlinecolor": "#2a3f5f"
            },
            "baxis": {
             "endlinecolor": "#2a3f5f",
             "gridcolor": "white",
             "linecolor": "white",
             "minorgridcolor": "white",
             "startlinecolor": "#2a3f5f"
            },
            "type": "carpet"
           }
          ],
          "choropleth": [
           {
            "colorbar": {
             "outlinewidth": 0,
             "ticks": ""
            },
            "type": "choropleth"
           }
          ],
          "contour": [
           {
            "colorbar": {
             "outlinewidth": 0,
             "ticks": ""
            },
            "colorscale": [
             [
              0,
              "#0d0887"
             ],
             [
              0.1111111111111111,
              "#46039f"
             ],
             [
              0.2222222222222222,
              "#7201a8"
             ],
             [
              0.3333333333333333,
              "#9c179e"
             ],
             [
              0.4444444444444444,
              "#bd3786"
             ],
             [
              0.5555555555555556,
              "#d8576b"
             ],
             [
              0.6666666666666666,
              "#ed7953"
             ],
             [
              0.7777777777777778,
              "#fb9f3a"
             ],
             [
              0.8888888888888888,
              "#fdca26"
             ],
             [
              1,
              "#f0f921"
             ]
            ],
            "type": "contour"
           }
          ],
          "contourcarpet": [
           {
            "colorbar": {
             "outlinewidth": 0,
             "ticks": ""
            },
            "type": "contourcarpet"
           }
          ],
          "heatmap": [
           {
            "colorbar": {
             "outlinewidth": 0,
             "ticks": ""
            },
            "colorscale": [
             [
              0,
              "#0d0887"
             ],
             [
              0.1111111111111111,
              "#46039f"
             ],
             [
              0.2222222222222222,
              "#7201a8"
             ],
             [
              0.3333333333333333,
              "#9c179e"
             ],
             [
              0.4444444444444444,
              "#bd3786"
             ],
             [
              0.5555555555555556,
              "#d8576b"
             ],
             [
              0.6666666666666666,
              "#ed7953"
             ],
             [
              0.7777777777777778,
              "#fb9f3a"
             ],
             [
              0.8888888888888888,
              "#fdca26"
             ],
             [
              1,
              "#f0f921"
             ]
            ],
            "type": "heatmap"
           }
          ],
          "heatmapgl": [
           {
            "colorbar": {
             "outlinewidth": 0,
             "ticks": ""
            },
            "colorscale": [
             [
              0,
              "#0d0887"
             ],
             [
              0.1111111111111111,
              "#46039f"
             ],
             [
              0.2222222222222222,
              "#7201a8"
             ],
             [
              0.3333333333333333,
              "#9c179e"
             ],
             [
              0.4444444444444444,
              "#bd3786"
             ],
             [
              0.5555555555555556,
              "#d8576b"
             ],
             [
              0.6666666666666666,
              "#ed7953"
             ],
             [
              0.7777777777777778,
              "#fb9f3a"
             ],
             [
              0.8888888888888888,
              "#fdca26"
             ],
             [
              1,
              "#f0f921"
             ]
            ],
            "type": "heatmapgl"
           }
          ],
          "histogram": [
           {
            "marker": {
             "pattern": {
              "fillmode": "overlay",
              "size": 10,
              "solidity": 0.2
             }
            },
            "type": "histogram"
           }
          ],
          "histogram2d": [
           {
            "colorbar": {
             "outlinewidth": 0,
             "ticks": ""
            },
            "colorscale": [
             [
              0,
              "#0d0887"
             ],
             [
              0.1111111111111111,
              "#46039f"
             ],
             [
              0.2222222222222222,
              "#7201a8"
             ],
             [
              0.3333333333333333,
              "#9c179e"
             ],
             [
              0.4444444444444444,
              "#bd3786"
             ],
             [
              0.5555555555555556,
              "#d8576b"
             ],
             [
              0.6666666666666666,
              "#ed7953"
             ],
             [
              0.7777777777777778,
              "#fb9f3a"
             ],
             [
              0.8888888888888888,
              "#fdca26"
             ],
             [
              1,
              "#f0f921"
             ]
            ],
            "type": "histogram2d"
           }
          ],
          "histogram2dcontour": [
           {
            "colorbar": {
             "outlinewidth": 0,
             "ticks": ""
            },
            "colorscale": [
             [
              0,
              "#0d0887"
             ],
             [
              0.1111111111111111,
              "#46039f"
             ],
             [
              0.2222222222222222,
              "#7201a8"
             ],
             [
              0.3333333333333333,
              "#9c179e"
             ],
             [
              0.4444444444444444,
              "#bd3786"
             ],
             [
              0.5555555555555556,
              "#d8576b"
             ],
             [
              0.6666666666666666,
              "#ed7953"
             ],
             [
              0.7777777777777778,
              "#fb9f3a"
             ],
             [
              0.8888888888888888,
              "#fdca26"
             ],
             [
              1,
              "#f0f921"
             ]
            ],
            "type": "histogram2dcontour"
           }
          ],
          "mesh3d": [
           {
            "colorbar": {
             "outlinewidth": 0,
             "ticks": ""
            },
            "type": "mesh3d"
           }
          ],
          "parcoords": [
           {
            "line": {
             "colorbar": {
              "outlinewidth": 0,
              "ticks": ""
             }
            },
            "type": "parcoords"
           }
          ],
          "pie": [
           {
            "automargin": true,
            "type": "pie"
           }
          ],
          "scatter": [
           {
            "fillpattern": {
             "fillmode": "overlay",
             "size": 10,
             "solidity": 0.2
            },
            "type": "scatter"
           }
          ],
          "scatter3d": [
           {
            "line": {
             "colorbar": {
              "outlinewidth": 0,
              "ticks": ""
             }
            },
            "marker": {
             "colorbar": {
              "outlinewidth": 0,
              "ticks": ""
             }
            },
            "type": "scatter3d"
           }
          ],
          "scattercarpet": [
           {
            "marker": {
             "colorbar": {
              "outlinewidth": 0,
              "ticks": ""
             }
            },
            "type": "scattercarpet"
           }
          ],
          "scattergeo": [
           {
            "marker": {
             "colorbar": {
              "outlinewidth": 0,
              "ticks": ""
             }
            },
            "type": "scattergeo"
           }
          ],
          "scattergl": [
           {
            "marker": {
             "colorbar": {
              "outlinewidth": 0,
              "ticks": ""
             }
            },
            "type": "scattergl"
           }
          ],
          "scattermapbox": [
           {
            "marker": {
             "colorbar": {
              "outlinewidth": 0,
              "ticks": ""
             }
            },
            "type": "scattermapbox"
           }
          ],
          "scatterpolar": [
           {
            "marker": {
             "colorbar": {
              "outlinewidth": 0,
              "ticks": ""
             }
            },
            "type": "scatterpolar"
           }
          ],
          "scatterpolargl": [
           {
            "marker": {
             "colorbar": {
              "outlinewidth": 0,
              "ticks": ""
             }
            },
            "type": "scatterpolargl"
           }
          ],
          "scatterternary": [
           {
            "marker": {
             "colorbar": {
              "outlinewidth": 0,
              "ticks": ""
             }
            },
            "type": "scatterternary"
           }
          ],
          "surface": [
           {
            "colorbar": {
             "outlinewidth": 0,
             "ticks": ""
            },
            "colorscale": [
             [
              0,
              "#0d0887"
             ],
             [
              0.1111111111111111,
              "#46039f"
             ],
             [
              0.2222222222222222,
              "#7201a8"
             ],
             [
              0.3333333333333333,
              "#9c179e"
             ],
             [
              0.4444444444444444,
              "#bd3786"
             ],
             [
              0.5555555555555556,
              "#d8576b"
             ],
             [
              0.6666666666666666,
              "#ed7953"
             ],
             [
              0.7777777777777778,
              "#fb9f3a"
             ],
             [
              0.8888888888888888,
              "#fdca26"
             ],
             [
              1,
              "#f0f921"
             ]
            ],
            "type": "surface"
           }
          ],
          "table": [
           {
            "cells": {
             "fill": {
              "color": "#EBF0F8"
             },
             "line": {
              "color": "white"
             }
            },
            "header": {
             "fill": {
              "color": "#C8D4E3"
             },
             "line": {
              "color": "white"
             }
            },
            "type": "table"
           }
          ]
         },
         "layout": {
          "annotationdefaults": {
           "arrowcolor": "#2a3f5f",
           "arrowhead": 0,
           "arrowwidth": 1
          },
          "autotypenumbers": "strict",
          "coloraxis": {
           "colorbar": {
            "outlinewidth": 0,
            "ticks": ""
           }
          },
          "colorscale": {
           "diverging": [
            [
             0,
             "#8e0152"
            ],
            [
             0.1,
             "#c51b7d"
            ],
            [
             0.2,
             "#de77ae"
            ],
            [
             0.3,
             "#f1b6da"
            ],
            [
             0.4,
             "#fde0ef"
            ],
            [
             0.5,
             "#f7f7f7"
            ],
            [
             0.6,
             "#e6f5d0"
            ],
            [
             0.7,
             "#b8e186"
            ],
            [
             0.8,
             "#7fbc41"
            ],
            [
             0.9,
             "#4d9221"
            ],
            [
             1,
             "#276419"
            ]
           ],
           "sequential": [
            [
             0,
             "#0d0887"
            ],
            [
             0.1111111111111111,
             "#46039f"
            ],
            [
             0.2222222222222222,
             "#7201a8"
            ],
            [
             0.3333333333333333,
             "#9c179e"
            ],
            [
             0.4444444444444444,
             "#bd3786"
            ],
            [
             0.5555555555555556,
             "#d8576b"
            ],
            [
             0.6666666666666666,
             "#ed7953"
            ],
            [
             0.7777777777777778,
             "#fb9f3a"
            ],
            [
             0.8888888888888888,
             "#fdca26"
            ],
            [
             1,
             "#f0f921"
            ]
           ],
           "sequentialminus": [
            [
             0,
             "#0d0887"
            ],
            [
             0.1111111111111111,
             "#46039f"
            ],
            [
             0.2222222222222222,
             "#7201a8"
            ],
            [
             0.3333333333333333,
             "#9c179e"
            ],
            [
             0.4444444444444444,
             "#bd3786"
            ],
            [
             0.5555555555555556,
             "#d8576b"
            ],
            [
             0.6666666666666666,
             "#ed7953"
            ],
            [
             0.7777777777777778,
             "#fb9f3a"
            ],
            [
             0.8888888888888888,
             "#fdca26"
            ],
            [
             1,
             "#f0f921"
            ]
           ]
          },
          "colorway": [
           "#636efa",
           "#EF553B",
           "#00cc96",
           "#ab63fa",
           "#FFA15A",
           "#19d3f3",
           "#FF6692",
           "#B6E880",
           "#FF97FF",
           "#FECB52"
          ],
          "font": {
           "color": "#2a3f5f"
          },
          "geo": {
           "bgcolor": "white",
           "lakecolor": "white",
           "landcolor": "#E5ECF6",
           "showlakes": true,
           "showland": true,
           "subunitcolor": "white"
          },
          "hoverlabel": {
           "align": "left"
          },
          "hovermode": "closest",
          "mapbox": {
           "style": "light"
          },
          "paper_bgcolor": "white",
          "plot_bgcolor": "#E5ECF6",
          "polar": {
           "angularaxis": {
            "gridcolor": "white",
            "linecolor": "white",
            "ticks": ""
           },
           "bgcolor": "#E5ECF6",
           "radialaxis": {
            "gridcolor": "white",
            "linecolor": "white",
            "ticks": ""
           }
          },
          "scene": {
           "xaxis": {
            "backgroundcolor": "#E5ECF6",
            "gridcolor": "white",
            "gridwidth": 2,
            "linecolor": "white",
            "showbackground": true,
            "ticks": "",
            "zerolinecolor": "white"
           },
           "yaxis": {
            "backgroundcolor": "#E5ECF6",
            "gridcolor": "white",
            "gridwidth": 2,
            "linecolor": "white",
            "showbackground": true,
            "ticks": "",
            "zerolinecolor": "white"
           },
           "zaxis": {
            "backgroundcolor": "#E5ECF6",
            "gridcolor": "white",
            "gridwidth": 2,
            "linecolor": "white",
            "showbackground": true,
            "ticks": "",
            "zerolinecolor": "white"
           }
          },
          "shapedefaults": {
           "line": {
            "color": "#2a3f5f"
           }
          },
          "ternary": {
           "aaxis": {
            "gridcolor": "white",
            "linecolor": "white",
            "ticks": ""
           },
           "baxis": {
            "gridcolor": "white",
            "linecolor": "white",
            "ticks": ""
           },
           "bgcolor": "#E5ECF6",
           "caxis": {
            "gridcolor": "white",
            "linecolor": "white",
            "ticks": ""
           }
          },
          "title": {
           "x": 0.05
          },
          "xaxis": {
           "automargin": true,
           "gridcolor": "white",
           "linecolor": "white",
           "ticks": "",
           "title": {
            "standoff": 15
           },
           "zerolinecolor": "white",
           "zerolinewidth": 2
          },
          "yaxis": {
           "automargin": true,
           "gridcolor": "white",
           "linecolor": "white",
           "ticks": "",
           "title": {
            "standoff": 15
           },
           "zerolinecolor": "white",
           "zerolinewidth": 2
          }
         }
        },
        "title": {
         "text": "Currency Exchange Rates Over Time"
        },
        "width": 1000,
        "xaxis": {
         "range": [
          "2024-01-06T00:00:00",
          "2024-04-05T00:00:00"
         ],
         "rangeselector": {
          "buttons": [
           {
            "count": 1,
            "label": "1m",
            "step": "month",
            "stepmode": "backward",
            "visible": true
           },
           {
            "count": 3,
            "label": "3m",
            "step": "month",
            "stepmode": "backward",
            "visible": true
           },
           {
            "step": "all"
           }
          ]
         },
         "rangeslider": {
          "visible": true
         },
         "title": {
          "text": "Date"
         },
         "type": "date"
        },
        "yaxis": {
         "range": [
          0,
          2
         ],
         "title": {
          "text": "Value in Euro"
         }
        }
       }
      }
     },
     "metadata": {},
     "output_type": "display_data"
    }
   ],
   "source": [
    "\n",
    "\n",
    "# Assuming 'filtered_df' is your DataFrame and has been properly formatted with 'Date' as a column\n",
    "\n",
    "# Create an empty figure object\n",
    "fig = go.Figure()\n",
    "\n",
    "# Function to add traces to the figure\n",
    "def add_currency_trace(fig, df, currency_name, color):\n",
    "    fig.add_trace(\n",
    "        go.Scatter(\n",
    "            x=df['Date'],\n",
    "            y=df[currency_name],\n",
    "            name=currency_name,\n",
    "            mode='lines+markers',\n",
    "            line=dict(color=color),\n",
    "            marker=dict(size=10, opacity=0.8, line=dict(width=2)),\n",
    "            hoverinfo='x+y'\n",
    "        )\n",
    "    )\n",
    "\n",
    "# Add traces for each currency\n",
    "add_currency_trace(fig, filtered_df, 'USD', 'blue')\n",
    "add_currency_trace(fig, filtered_df, 'BGN', 'green')\n",
    "add_currency_trace(fig, filtered_df, 'GBP', 'red')\n",
    "add_currency_trace(fig, filtered_df, 'CHF', 'orange')\n",
    "\n",
    "# Set the range of y-axis\n",
    "fig.update_layout(yaxis_range=[0, 2])\n",
    "\n",
    "# Update the layout\n",
    "fig.update_layout(\n",
    "    title='Currency Exchange Rates Over Time',\n",
    "    xaxis_title='Date',\n",
    "    yaxis_title='Value in Euro',\n",
    "    hovermode='x unified', # 'x unified' will show the tooltip for all traces at the same x location\n",
    "    legend=dict(yanchor=\"top\", y=0.99, xanchor=\"left\", x=0.01),# Position the legend\n",
    "    width=1000,\n",
    "    height=600\n",
    ")\n",
    "\n",
    "# Customize the layout of the plot to fit the data and remove irrelevant buttons\n",
    "max_date = filtered_df['Date'].max()  # Assuming 'Date' is a datetime column\n",
    "min_date = max_date - pd.Timedelta(days=90)\n",
    "\n",
    "fig.update_layout(\n",
    "    xaxis=dict(\n",
    "        rangeselector=dict(\n",
    "            buttons=list([\n",
    "                dict(count=1, label='1m', step='month', stepmode='backward', visible=max_date >= min_date + pd.Timedelta(days=30)),\n",
    "                dict(count=3, label='3m', step='month', stepmode='backward', visible=max_date >= min_date + pd.Timedelta(days=90)),\n",
    "                dict(step='all')\n",
    "            ])\n",
    "        ),\n",
    "        rangeslider=dict(\n",
    "            visible=True\n",
    "        ),\n",
    "        type='date',\n",
    "        range=[min_date, max_date]  # Set the range of x-axis to the last 90 days\n",
    "    )\n",
    ")\n",
    "\n",
    "# Show figure\n",
    "fig.show()\n"
   ]
  },
  {
   "cell_type": "code",
   "execution_count": 49,
   "metadata": {},
   "outputs": [
    {
     "data": {
      "application/vnd.plotly.v1+json": {
       "config": {
        "plotlyServerURL": "https://plot.ly"
       },
       "data": [
        {
         "hoverinfo": "x+y",
         "line": {
          "color": "blue"
         },
         "marker": {
          "line": {
           "width": 2
          },
          "opacity": 0.8,
          "size": 15
         },
         "mode": "lines+markers",
         "name": "USD",
         "type": "scatter",
         "x": [
          "2024-04-05T00:00:00",
          "2024-04-04T00:00:00",
          "2024-04-03T00:00:00",
          "2024-04-02T00:00:00",
          "2024-03-28T00:00:00",
          "2024-03-27T00:00:00",
          "2024-03-26T00:00:00",
          "2024-03-25T00:00:00",
          "2024-03-22T00:00:00",
          "2024-03-21T00:00:00",
          "2024-03-20T00:00:00",
          "2024-03-19T00:00:00",
          "2024-03-18T00:00:00",
          "2024-03-15T00:00:00",
          "2024-03-14T00:00:00",
          "2024-03-13T00:00:00",
          "2024-03-12T00:00:00",
          "2024-03-11T00:00:00",
          "2024-03-08T00:00:00",
          "2024-03-07T00:00:00",
          "2024-03-06T00:00:00",
          "2024-03-05T00:00:00",
          "2024-03-04T00:00:00",
          "2024-03-01T00:00:00",
          "2024-02-29T00:00:00",
          "2024-02-28T00:00:00",
          "2024-02-27T00:00:00",
          "2024-02-26T00:00:00",
          "2024-02-23T00:00:00",
          "2024-02-22T00:00:00",
          "2024-02-21T00:00:00",
          "2024-02-20T00:00:00",
          "2024-02-19T00:00:00",
          "2024-02-16T00:00:00",
          "2024-02-15T00:00:00",
          "2024-02-14T00:00:00",
          "2024-02-13T00:00:00",
          "2024-02-12T00:00:00",
          "2024-02-09T00:00:00",
          "2024-02-08T00:00:00",
          "2024-02-07T00:00:00",
          "2024-02-06T00:00:00",
          "2024-02-05T00:00:00",
          "2024-02-02T00:00:00",
          "2024-02-01T00:00:00",
          "2024-01-31T00:00:00",
          "2024-01-30T00:00:00",
          "2024-01-29T00:00:00",
          "2024-01-26T00:00:00",
          "2024-01-25T00:00:00",
          "2024-01-24T00:00:00",
          "2024-01-23T00:00:00",
          "2024-01-22T00:00:00",
          "2024-01-19T00:00:00",
          "2024-01-18T00:00:00",
          "2024-01-17T00:00:00",
          "2024-01-16T00:00:00",
          "2024-01-15T00:00:00",
          "2024-01-12T00:00:00",
          "2024-01-11T00:00:00",
          "2024-01-10T00:00:00",
          "2024-01-09T00:00:00",
          "2024-01-08T00:00:00"
         ],
         "y": [
          1.0841,
          1.0852,
          1.0783,
          1.0749,
          1.0811,
          1.0816,
          1.0855,
          1.0835,
          1.0823,
          1.0907,
          1.0844,
          1.0854,
          1.0892,
          1.0892,
          1.0925,
          1.0939,
          1.0916,
          1.0926,
          1.0932,
          1.0895,
          1.0874,
          1.0849,
          1.0846,
          1.0813,
          1.0826,
          1.0808,
          1.0856,
          1.0852,
          1.0834,
          1.0844,
          1.0809,
          1.0802,
          1.0776,
          1.0768,
          1.0743,
          1.0713,
          1.0793,
          1.0773,
          1.0772,
          1.0758,
          1.0776,
          1.0743,
          1.0746,
          1.0883,
          1.0814,
          1.0837,
          1.0846,
          1.0823,
          1.0871,
          1.0893,
          1.0905,
          1.0872,
          1.089,
          1.0887,
          1.0875,
          1.0877,
          1.0882,
          1.0945,
          1.0942,
          1.0987,
          1.0946,
          1.094,
          1.0946
         ]
        },
        {
         "hoverinfo": "x+y",
         "line": {
          "color": "green"
         },
         "marker": {
          "line": {
           "width": 2
          },
          "opacity": 0.8,
          "size": 15
         },
         "mode": "lines+markers",
         "name": "BGN",
         "type": "scatter",
         "x": [
          "2024-04-05T00:00:00",
          "2024-04-04T00:00:00",
          "2024-04-03T00:00:00",
          "2024-04-02T00:00:00",
          "2024-03-28T00:00:00",
          "2024-03-27T00:00:00",
          "2024-03-26T00:00:00",
          "2024-03-25T00:00:00",
          "2024-03-22T00:00:00",
          "2024-03-21T00:00:00",
          "2024-03-20T00:00:00",
          "2024-03-19T00:00:00",
          "2024-03-18T00:00:00",
          "2024-03-15T00:00:00",
          "2024-03-14T00:00:00",
          "2024-03-13T00:00:00",
          "2024-03-12T00:00:00",
          "2024-03-11T00:00:00",
          "2024-03-08T00:00:00",
          "2024-03-07T00:00:00",
          "2024-03-06T00:00:00",
          "2024-03-05T00:00:00",
          "2024-03-04T00:00:00",
          "2024-03-01T00:00:00",
          "2024-02-29T00:00:00",
          "2024-02-28T00:00:00",
          "2024-02-27T00:00:00",
          "2024-02-26T00:00:00",
          "2024-02-23T00:00:00",
          "2024-02-22T00:00:00",
          "2024-02-21T00:00:00",
          "2024-02-20T00:00:00",
          "2024-02-19T00:00:00",
          "2024-02-16T00:00:00",
          "2024-02-15T00:00:00",
          "2024-02-14T00:00:00",
          "2024-02-13T00:00:00",
          "2024-02-12T00:00:00",
          "2024-02-09T00:00:00",
          "2024-02-08T00:00:00",
          "2024-02-07T00:00:00",
          "2024-02-06T00:00:00",
          "2024-02-05T00:00:00",
          "2024-02-02T00:00:00",
          "2024-02-01T00:00:00",
          "2024-01-31T00:00:00",
          "2024-01-30T00:00:00",
          "2024-01-29T00:00:00",
          "2024-01-26T00:00:00",
          "2024-01-25T00:00:00",
          "2024-01-24T00:00:00",
          "2024-01-23T00:00:00",
          "2024-01-22T00:00:00",
          "2024-01-19T00:00:00",
          "2024-01-18T00:00:00",
          "2024-01-17T00:00:00",
          "2024-01-16T00:00:00",
          "2024-01-15T00:00:00",
          "2024-01-12T00:00:00",
          "2024-01-11T00:00:00",
          "2024-01-10T00:00:00",
          "2024-01-09T00:00:00",
          "2024-01-08T00:00:00"
         ],
         "y": [
          1.9558,
          1.9558,
          1.9558,
          1.9558,
          1.9558,
          1.9558,
          1.9558,
          1.9558,
          1.9558,
          1.9558,
          1.9558,
          1.9558,
          1.9558,
          1.9558,
          1.9558,
          1.9558,
          1.9558,
          1.9558,
          1.9558,
          1.9558,
          1.9558,
          1.9558,
          1.9558,
          1.9558,
          1.9558,
          1.9558,
          1.9558,
          1.9558,
          1.9558,
          1.9558,
          1.9558,
          1.9558,
          1.9558,
          1.9558,
          1.9558,
          1.9558,
          1.9558,
          1.9558,
          1.9558,
          1.9558,
          1.9558,
          1.9558,
          1.9558,
          1.9558,
          1.9558,
          1.9558,
          1.9558,
          1.9558,
          1.9558,
          1.9558,
          1.9558,
          1.9558,
          1.9558,
          1.9558,
          1.9558,
          1.9558,
          1.9558,
          1.9558,
          1.9558,
          1.9558,
          1.9558,
          1.9558,
          1.9558
         ]
        },
        {
         "hoverinfo": "x+y",
         "line": {
          "color": "red"
         },
         "marker": {
          "line": {
           "width": 2
          },
          "opacity": 0.8,
          "size": 15
         },
         "mode": "lines+markers",
         "name": "GBP",
         "type": "scatter",
         "x": [
          "2024-04-05T00:00:00",
          "2024-04-04T00:00:00",
          "2024-04-03T00:00:00",
          "2024-04-02T00:00:00",
          "2024-03-28T00:00:00",
          "2024-03-27T00:00:00",
          "2024-03-26T00:00:00",
          "2024-03-25T00:00:00",
          "2024-03-22T00:00:00",
          "2024-03-21T00:00:00",
          "2024-03-20T00:00:00",
          "2024-03-19T00:00:00",
          "2024-03-18T00:00:00",
          "2024-03-15T00:00:00",
          "2024-03-14T00:00:00",
          "2024-03-13T00:00:00",
          "2024-03-12T00:00:00",
          "2024-03-11T00:00:00",
          "2024-03-08T00:00:00",
          "2024-03-07T00:00:00",
          "2024-03-06T00:00:00",
          "2024-03-05T00:00:00",
          "2024-03-04T00:00:00",
          "2024-03-01T00:00:00",
          "2024-02-29T00:00:00",
          "2024-02-28T00:00:00",
          "2024-02-27T00:00:00",
          "2024-02-26T00:00:00",
          "2024-02-23T00:00:00",
          "2024-02-22T00:00:00",
          "2024-02-21T00:00:00",
          "2024-02-20T00:00:00",
          "2024-02-19T00:00:00",
          "2024-02-16T00:00:00",
          "2024-02-15T00:00:00",
          "2024-02-14T00:00:00",
          "2024-02-13T00:00:00",
          "2024-02-12T00:00:00",
          "2024-02-09T00:00:00",
          "2024-02-08T00:00:00",
          "2024-02-07T00:00:00",
          "2024-02-06T00:00:00",
          "2024-02-05T00:00:00",
          "2024-02-02T00:00:00",
          "2024-02-01T00:00:00",
          "2024-01-31T00:00:00",
          "2024-01-30T00:00:00",
          "2024-01-29T00:00:00",
          "2024-01-26T00:00:00",
          "2024-01-25T00:00:00",
          "2024-01-24T00:00:00",
          "2024-01-23T00:00:00",
          "2024-01-22T00:00:00",
          "2024-01-19T00:00:00",
          "2024-01-18T00:00:00",
          "2024-01-17T00:00:00",
          "2024-01-16T00:00:00",
          "2024-01-15T00:00:00",
          "2024-01-12T00:00:00",
          "2024-01-11T00:00:00",
          "2024-01-10T00:00:00",
          "2024-01-09T00:00:00",
          "2024-01-08T00:00:00"
         ],
         "y": [
          0.85773,
          0.85788,
          0.85713,
          0.8551,
          0.8551,
          0.85768,
          0.85846,
          0.85698,
          0.85795,
          0.85678,
          0.85438,
          0.85445,
          0.85525,
          0.8541,
          0.8542,
          0.85451,
          0.85458,
          0.85208,
          0.85168,
          0.85445,
          0.85498,
          0.85543,
          0.85583,
          0.85588,
          0.85655,
          0.85548,
          0.8562,
          0.85495,
          0.8534,
          0.85625,
          0.85619,
          0.8566,
          0.85448,
          0.85605,
          0.85635,
          0.85258,
          0.85098,
          0.85391,
          0.8544,
          0.85378,
          0.85305,
          0.8546,
          0.85595,
          0.85263,
          0.85353,
          0.85435,
          0.85628,
          0.8525,
          0.85368,
          0.85538,
          0.85543,
          0.85493,
          0.85575,
          0.85825,
          0.85773,
          0.85818,
          0.86078,
          0.86075,
          0.8595,
          0.86145,
          0.86023,
          0.85938,
          0.8615
         ]
        },
        {
         "hoverinfo": "x+y",
         "line": {
          "color": "orange"
         },
         "marker": {
          "line": {
           "width": 2
          },
          "opacity": 0.8,
          "size": 15
         },
         "mode": "lines+markers",
         "name": "CHF",
         "type": "scatter",
         "x": [
          "2024-04-05T00:00:00",
          "2024-04-04T00:00:00",
          "2024-04-03T00:00:00",
          "2024-04-02T00:00:00",
          "2024-03-28T00:00:00",
          "2024-03-27T00:00:00",
          "2024-03-26T00:00:00",
          "2024-03-25T00:00:00",
          "2024-03-22T00:00:00",
          "2024-03-21T00:00:00",
          "2024-03-20T00:00:00",
          "2024-03-19T00:00:00",
          "2024-03-18T00:00:00",
          "2024-03-15T00:00:00",
          "2024-03-14T00:00:00",
          "2024-03-13T00:00:00",
          "2024-03-12T00:00:00",
          "2024-03-11T00:00:00",
          "2024-03-08T00:00:00",
          "2024-03-07T00:00:00",
          "2024-03-06T00:00:00",
          "2024-03-05T00:00:00",
          "2024-03-04T00:00:00",
          "2024-03-01T00:00:00",
          "2024-02-29T00:00:00",
          "2024-02-28T00:00:00",
          "2024-02-27T00:00:00",
          "2024-02-26T00:00:00",
          "2024-02-23T00:00:00",
          "2024-02-22T00:00:00",
          "2024-02-21T00:00:00",
          "2024-02-20T00:00:00",
          "2024-02-19T00:00:00",
          "2024-02-16T00:00:00",
          "2024-02-15T00:00:00",
          "2024-02-14T00:00:00",
          "2024-02-13T00:00:00",
          "2024-02-12T00:00:00",
          "2024-02-09T00:00:00",
          "2024-02-08T00:00:00",
          "2024-02-07T00:00:00",
          "2024-02-06T00:00:00",
          "2024-02-05T00:00:00",
          "2024-02-02T00:00:00",
          "2024-02-01T00:00:00",
          "2024-01-31T00:00:00",
          "2024-01-30T00:00:00",
          "2024-01-29T00:00:00",
          "2024-01-26T00:00:00",
          "2024-01-25T00:00:00",
          "2024-01-24T00:00:00",
          "2024-01-23T00:00:00",
          "2024-01-22T00:00:00",
          "2024-01-19T00:00:00",
          "2024-01-18T00:00:00",
          "2024-01-17T00:00:00",
          "2024-01-16T00:00:00",
          "2024-01-15T00:00:00",
          "2024-01-12T00:00:00",
          "2024-01-11T00:00:00",
          "2024-01-10T00:00:00",
          "2024-01-09T00:00:00",
          "2024-01-08T00:00:00"
         ],
         "y": [
          0.9793,
          0.9846,
          0.9792,
          0.9765,
          0.9766,
          0.9811,
          0.981,
          0.9724,
          0.9729,
          0.9766,
          0.9658,
          0.963,
          0.963,
          0.9613,
          0.9616,
          0.9599,
          0.9588,
          0.9594,
          0.9588,
          0.9577,
          0.9619,
          0.9609,
          0.9604,
          0.9582,
          0.9534,
          0.952,
          0.9544,
          0.9546,
          0.9522,
          0.9535,
          0.951,
          0.9526,
          0.9492,
          0.9491,
          0.9484,
          0.9493,
          0.9481,
          0.943,
          0.9432,
          0.9409,
          0.9393,
          0.9366,
          0.9347,
          0.9315,
          0.9336,
          0.9348,
          0.9365,
          0.9339,
          0.9396,
          0.942,
          0.9415,
          0.9446,
          0.9458,
          0.9459,
          0.9432,
          0.9406,
          0.9361,
          0.9351,
          0.935,
          0.9338,
          0.9336,
          0.9313,
          0.9308
         ]
        }
       ],
       "layout": {
        "height": 600,
        "hovermode": "x unified",
        "legend": {
         "x": 0.01,
         "xanchor": "left",
         "y": 0.99,
         "yanchor": "top"
        },
        "template": {
         "data": {
          "bar": [
           {
            "error_x": {
             "color": "#2a3f5f"
            },
            "error_y": {
             "color": "#2a3f5f"
            },
            "marker": {
             "line": {
              "color": "#E5ECF6",
              "width": 0.5
             },
             "pattern": {
              "fillmode": "overlay",
              "size": 10,
              "solidity": 0.2
             }
            },
            "type": "bar"
           }
          ],
          "barpolar": [
           {
            "marker": {
             "line": {
              "color": "#E5ECF6",
              "width": 0.5
             },
             "pattern": {
              "fillmode": "overlay",
              "size": 10,
              "solidity": 0.2
             }
            },
            "type": "barpolar"
           }
          ],
          "carpet": [
           {
            "aaxis": {
             "endlinecolor": "#2a3f5f",
             "gridcolor": "white",
             "linecolor": "white",
             "minorgridcolor": "white",
             "startlinecolor": "#2a3f5f"
            },
            "baxis": {
             "endlinecolor": "#2a3f5f",
             "gridcolor": "white",
             "linecolor": "white",
             "minorgridcolor": "white",
             "startlinecolor": "#2a3f5f"
            },
            "type": "carpet"
           }
          ],
          "choropleth": [
           {
            "colorbar": {
             "outlinewidth": 0,
             "ticks": ""
            },
            "type": "choropleth"
           }
          ],
          "contour": [
           {
            "colorbar": {
             "outlinewidth": 0,
             "ticks": ""
            },
            "colorscale": [
             [
              0,
              "#0d0887"
             ],
             [
              0.1111111111111111,
              "#46039f"
             ],
             [
              0.2222222222222222,
              "#7201a8"
             ],
             [
              0.3333333333333333,
              "#9c179e"
             ],
             [
              0.4444444444444444,
              "#bd3786"
             ],
             [
              0.5555555555555556,
              "#d8576b"
             ],
             [
              0.6666666666666666,
              "#ed7953"
             ],
             [
              0.7777777777777778,
              "#fb9f3a"
             ],
             [
              0.8888888888888888,
              "#fdca26"
             ],
             [
              1,
              "#f0f921"
             ]
            ],
            "type": "contour"
           }
          ],
          "contourcarpet": [
           {
            "colorbar": {
             "outlinewidth": 0,
             "ticks": ""
            },
            "type": "contourcarpet"
           }
          ],
          "heatmap": [
           {
            "colorbar": {
             "outlinewidth": 0,
             "ticks": ""
            },
            "colorscale": [
             [
              0,
              "#0d0887"
             ],
             [
              0.1111111111111111,
              "#46039f"
             ],
             [
              0.2222222222222222,
              "#7201a8"
             ],
             [
              0.3333333333333333,
              "#9c179e"
             ],
             [
              0.4444444444444444,
              "#bd3786"
             ],
             [
              0.5555555555555556,
              "#d8576b"
             ],
             [
              0.6666666666666666,
              "#ed7953"
             ],
             [
              0.7777777777777778,
              "#fb9f3a"
             ],
             [
              0.8888888888888888,
              "#fdca26"
             ],
             [
              1,
              "#f0f921"
             ]
            ],
            "type": "heatmap"
           }
          ],
          "heatmapgl": [
           {
            "colorbar": {
             "outlinewidth": 0,
             "ticks": ""
            },
            "colorscale": [
             [
              0,
              "#0d0887"
             ],
             [
              0.1111111111111111,
              "#46039f"
             ],
             [
              0.2222222222222222,
              "#7201a8"
             ],
             [
              0.3333333333333333,
              "#9c179e"
             ],
             [
              0.4444444444444444,
              "#bd3786"
             ],
             [
              0.5555555555555556,
              "#d8576b"
             ],
             [
              0.6666666666666666,
              "#ed7953"
             ],
             [
              0.7777777777777778,
              "#fb9f3a"
             ],
             [
              0.8888888888888888,
              "#fdca26"
             ],
             [
              1,
              "#f0f921"
             ]
            ],
            "type": "heatmapgl"
           }
          ],
          "histogram": [
           {
            "marker": {
             "pattern": {
              "fillmode": "overlay",
              "size": 10,
              "solidity": 0.2
             }
            },
            "type": "histogram"
           }
          ],
          "histogram2d": [
           {
            "colorbar": {
             "outlinewidth": 0,
             "ticks": ""
            },
            "colorscale": [
             [
              0,
              "#0d0887"
             ],
             [
              0.1111111111111111,
              "#46039f"
             ],
             [
              0.2222222222222222,
              "#7201a8"
             ],
             [
              0.3333333333333333,
              "#9c179e"
             ],
             [
              0.4444444444444444,
              "#bd3786"
             ],
             [
              0.5555555555555556,
              "#d8576b"
             ],
             [
              0.6666666666666666,
              "#ed7953"
             ],
             [
              0.7777777777777778,
              "#fb9f3a"
             ],
             [
              0.8888888888888888,
              "#fdca26"
             ],
             [
              1,
              "#f0f921"
             ]
            ],
            "type": "histogram2d"
           }
          ],
          "histogram2dcontour": [
           {
            "colorbar": {
             "outlinewidth": 0,
             "ticks": ""
            },
            "colorscale": [
             [
              0,
              "#0d0887"
             ],
             [
              0.1111111111111111,
              "#46039f"
             ],
             [
              0.2222222222222222,
              "#7201a8"
             ],
             [
              0.3333333333333333,
              "#9c179e"
             ],
             [
              0.4444444444444444,
              "#bd3786"
             ],
             [
              0.5555555555555556,
              "#d8576b"
             ],
             [
              0.6666666666666666,
              "#ed7953"
             ],
             [
              0.7777777777777778,
              "#fb9f3a"
             ],
             [
              0.8888888888888888,
              "#fdca26"
             ],
             [
              1,
              "#f0f921"
             ]
            ],
            "type": "histogram2dcontour"
           }
          ],
          "mesh3d": [
           {
            "colorbar": {
             "outlinewidth": 0,
             "ticks": ""
            },
            "type": "mesh3d"
           }
          ],
          "parcoords": [
           {
            "line": {
             "colorbar": {
              "outlinewidth": 0,
              "ticks": ""
             }
            },
            "type": "parcoords"
           }
          ],
          "pie": [
           {
            "automargin": true,
            "type": "pie"
           }
          ],
          "scatter": [
           {
            "fillpattern": {
             "fillmode": "overlay",
             "size": 10,
             "solidity": 0.2
            },
            "type": "scatter"
           }
          ],
          "scatter3d": [
           {
            "line": {
             "colorbar": {
              "outlinewidth": 0,
              "ticks": ""
             }
            },
            "marker": {
             "colorbar": {
              "outlinewidth": 0,
              "ticks": ""
             }
            },
            "type": "scatter3d"
           }
          ],
          "scattercarpet": [
           {
            "marker": {
             "colorbar": {
              "outlinewidth": 0,
              "ticks": ""
             }
            },
            "type": "scattercarpet"
           }
          ],
          "scattergeo": [
           {
            "marker": {
             "colorbar": {
              "outlinewidth": 0,
              "ticks": ""
             }
            },
            "type": "scattergeo"
           }
          ],
          "scattergl": [
           {
            "marker": {
             "colorbar": {
              "outlinewidth": 0,
              "ticks": ""
             }
            },
            "type": "scattergl"
           }
          ],
          "scattermapbox": [
           {
            "marker": {
             "colorbar": {
              "outlinewidth": 0,
              "ticks": ""
             }
            },
            "type": "scattermapbox"
           }
          ],
          "scatterpolar": [
           {
            "marker": {
             "colorbar": {
              "outlinewidth": 0,
              "ticks": ""
             }
            },
            "type": "scatterpolar"
           }
          ],
          "scatterpolargl": [
           {
            "marker": {
             "colorbar": {
              "outlinewidth": 0,
              "ticks": ""
             }
            },
            "type": "scatterpolargl"
           }
          ],
          "scatterternary": [
           {
            "marker": {
             "colorbar": {
              "outlinewidth": 0,
              "ticks": ""
             }
            },
            "type": "scatterternary"
           }
          ],
          "surface": [
           {
            "colorbar": {
             "outlinewidth": 0,
             "ticks": ""
            },
            "colorscale": [
             [
              0,
              "#0d0887"
             ],
             [
              0.1111111111111111,
              "#46039f"
             ],
             [
              0.2222222222222222,
              "#7201a8"
             ],
             [
              0.3333333333333333,
              "#9c179e"
             ],
             [
              0.4444444444444444,
              "#bd3786"
             ],
             [
              0.5555555555555556,
              "#d8576b"
             ],
             [
              0.6666666666666666,
              "#ed7953"
             ],
             [
              0.7777777777777778,
              "#fb9f3a"
             ],
             [
              0.8888888888888888,
              "#fdca26"
             ],
             [
              1,
              "#f0f921"
             ]
            ],
            "type": "surface"
           }
          ],
          "table": [
           {
            "cells": {
             "fill": {
              "color": "#EBF0F8"
             },
             "line": {
              "color": "white"
             }
            },
            "header": {
             "fill": {
              "color": "#C8D4E3"
             },
             "line": {
              "color": "white"
             }
            },
            "type": "table"
           }
          ]
         },
         "layout": {
          "annotationdefaults": {
           "arrowcolor": "#2a3f5f",
           "arrowhead": 0,
           "arrowwidth": 1
          },
          "autotypenumbers": "strict",
          "coloraxis": {
           "colorbar": {
            "outlinewidth": 0,
            "ticks": ""
           }
          },
          "colorscale": {
           "diverging": [
            [
             0,
             "#8e0152"
            ],
            [
             0.1,
             "#c51b7d"
            ],
            [
             0.2,
             "#de77ae"
            ],
            [
             0.3,
             "#f1b6da"
            ],
            [
             0.4,
             "#fde0ef"
            ],
            [
             0.5,
             "#f7f7f7"
            ],
            [
             0.6,
             "#e6f5d0"
            ],
            [
             0.7,
             "#b8e186"
            ],
            [
             0.8,
             "#7fbc41"
            ],
            [
             0.9,
             "#4d9221"
            ],
            [
             1,
             "#276419"
            ]
           ],
           "sequential": [
            [
             0,
             "#0d0887"
            ],
            [
             0.1111111111111111,
             "#46039f"
            ],
            [
             0.2222222222222222,
             "#7201a8"
            ],
            [
             0.3333333333333333,
             "#9c179e"
            ],
            [
             0.4444444444444444,
             "#bd3786"
            ],
            [
             0.5555555555555556,
             "#d8576b"
            ],
            [
             0.6666666666666666,
             "#ed7953"
            ],
            [
             0.7777777777777778,
             "#fb9f3a"
            ],
            [
             0.8888888888888888,
             "#fdca26"
            ],
            [
             1,
             "#f0f921"
            ]
           ],
           "sequentialminus": [
            [
             0,
             "#0d0887"
            ],
            [
             0.1111111111111111,
             "#46039f"
            ],
            [
             0.2222222222222222,
             "#7201a8"
            ],
            [
             0.3333333333333333,
             "#9c179e"
            ],
            [
             0.4444444444444444,
             "#bd3786"
            ],
            [
             0.5555555555555556,
             "#d8576b"
            ],
            [
             0.6666666666666666,
             "#ed7953"
            ],
            [
             0.7777777777777778,
             "#fb9f3a"
            ],
            [
             0.8888888888888888,
             "#fdca26"
            ],
            [
             1,
             "#f0f921"
            ]
           ]
          },
          "colorway": [
           "#636efa",
           "#EF553B",
           "#00cc96",
           "#ab63fa",
           "#FFA15A",
           "#19d3f3",
           "#FF6692",
           "#B6E880",
           "#FF97FF",
           "#FECB52"
          ],
          "font": {
           "color": "#2a3f5f"
          },
          "geo": {
           "bgcolor": "white",
           "lakecolor": "white",
           "landcolor": "#E5ECF6",
           "showlakes": true,
           "showland": true,
           "subunitcolor": "white"
          },
          "hoverlabel": {
           "align": "left"
          },
          "hovermode": "closest",
          "mapbox": {
           "style": "light"
          },
          "paper_bgcolor": "white",
          "plot_bgcolor": "#E5ECF6",
          "polar": {
           "angularaxis": {
            "gridcolor": "white",
            "linecolor": "white",
            "ticks": ""
           },
           "bgcolor": "#E5ECF6",
           "radialaxis": {
            "gridcolor": "white",
            "linecolor": "white",
            "ticks": ""
           }
          },
          "scene": {
           "xaxis": {
            "backgroundcolor": "#E5ECF6",
            "gridcolor": "white",
            "gridwidth": 2,
            "linecolor": "white",
            "showbackground": true,
            "ticks": "",
            "zerolinecolor": "white"
           },
           "yaxis": {
            "backgroundcolor": "#E5ECF6",
            "gridcolor": "white",
            "gridwidth": 2,
            "linecolor": "white",
            "showbackground": true,
            "ticks": "",
            "zerolinecolor": "white"
           },
           "zaxis": {
            "backgroundcolor": "#E5ECF6",
            "gridcolor": "white",
            "gridwidth": 2,
            "linecolor": "white",
            "showbackground": true,
            "ticks": "",
            "zerolinecolor": "white"
           }
          },
          "shapedefaults": {
           "line": {
            "color": "#2a3f5f"
           }
          },
          "ternary": {
           "aaxis": {
            "gridcolor": "white",
            "linecolor": "white",
            "ticks": ""
           },
           "baxis": {
            "gridcolor": "white",
            "linecolor": "white",
            "ticks": ""
           },
           "bgcolor": "#E5ECF6",
           "caxis": {
            "gridcolor": "white",
            "linecolor": "white",
            "ticks": ""
           }
          },
          "title": {
           "x": 0.05
          },
          "xaxis": {
           "automargin": true,
           "gridcolor": "white",
           "linecolor": "white",
           "ticks": "",
           "title": {
            "standoff": 15
           },
           "zerolinecolor": "white",
           "zerolinewidth": 2
          },
          "yaxis": {
           "automargin": true,
           "gridcolor": "white",
           "linecolor": "white",
           "ticks": "",
           "title": {
            "standoff": 15
           },
           "zerolinecolor": "white",
           "zerolinewidth": 2
          }
         }
        },
        "title": {
         "text": "Currency Exchange Rates Over Time"
        },
        "width": 1200,
        "xaxis": {
         "title": {
          "text": "Date"
         }
        },
        "yaxis": {
         "range": [
          0,
          2
         ],
         "title": {
          "text": "Value in Euro"
         }
        }
       }
      }
     },
     "metadata": {},
     "output_type": "display_data"
    }
   ],
   "source": [
    "\n",
    "\n",
    "# Assuming 'filtered_df' is your DataFrame and has been properly formatted with 'Date' as a column\n",
    "\n",
    "# Create an empty figure object\n",
    "fig = go.Figure()\n",
    "\n",
    "# Function to add traces to the figure\n",
    "def add_currency_trace(fig, df, currency_name, color):\n",
    "    fig.add_trace(\n",
    "        go.Scatter(\n",
    "            x=df['Date'],\n",
    "            y=df[currency_name],\n",
    "            name=currency_name,\n",
    "            mode='lines+markers',\n",
    "            line=dict(color=color),\n",
    "            marker=dict(size=10, opacity=0.8, line=dict(width=2)),\n",
    "            hoverinfo='x+y'\n",
    "        )\n",
    "    )\n",
    "\n",
    "# Add traces for each currency\n",
    "add_currency_trace(fig, filtered_df, 'USD', 'blue')\n",
    "add_currency_trace(fig, filtered_df, 'BGN', 'green')\n",
    "add_currency_trace(fig, filtered_df, 'GBP', 'red')\n",
    "add_currency_trace(fig, filtered_df, 'CHF', 'orange')\n",
    "\n",
    "# Set the range of y-axis\n",
    "fig.update_layout(yaxis_range=[0, 2])\n",
    "\n",
    "# Update the layout with the desired figure size and adjust layout parameters\n",
    "fig.update_layout(\n",
    "    title='Currency Exchange Rates Over Time',\n",
    "    xaxis_title='Date',\n",
    "    yaxis_title='Value in Euro',\n",
    "    hovermode='x unified',\n",
    "    legend=dict(yanchor=\"top\", y=0.99, xanchor=\"left\", x=0.01),\n",
    "    width=1200,  # Updated width\n",
    "    height=600   # Updated height\n",
    ")\n",
    "\n",
    "# Customize the range slider and buttons to fit the 90 days range\n",
    "max_date = filtered_df['Date'].max()  # Assuming 'Date' is a datetime column\n",
    "min_date = max_date - pd.Timedelta(days=90)\n",
    "\n",
    "\n",
    "\n",
    "# If necessary, adjust marker sizes directly in the trace definitions.\n",
    "for trace in fig.data:\n",
    "    trace['marker']['size'] = 15  # Update the size of markers if needed\n",
    "\n",
    "# Show the plot\n",
    "fig.show()"
   ]
  },
  {
   "cell_type": "markdown",
   "metadata": {},
   "source": []
  }
 ],
 "metadata": {
  "kernelspec": {
   "display_name": "Python 3",
   "language": "python",
   "name": "python3"
  },
  "language_info": {
   "codemirror_mode": {
    "name": "ipython",
    "version": 3
   },
   "file_extension": ".py",
   "mimetype": "text/x-python",
   "name": "python",
   "nbconvert_exporter": "python",
   "pygments_lexer": "ipython3",
   "version": "3.10.11"
  }
 },
 "nbformat": 4,
 "nbformat_minor": 2
}
